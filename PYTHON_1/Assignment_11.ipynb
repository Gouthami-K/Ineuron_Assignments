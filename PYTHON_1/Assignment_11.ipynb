{
 "cells": [
  {
   "cell_type": "markdown",
   "id": "f75f9db3",
   "metadata": {},
   "source": [
    "### Q.1. What is the role of the 'else' block in a try-except statement? Provide an example scenario where it would be useful."
   ]
  },
  {
   "cell_type": "code",
   "execution_count": null,
   "id": "5662ad57",
   "metadata": {},
   "outputs": [],
   "source": []
  },
  {
   "cell_type": "markdown",
   "id": "c1252150",
   "metadata": {},
   "source": [
    "### Q.2. Can a try-except block be nested inside another try-except block? Explain with an example. "
   ]
  },
  {
   "cell_type": "code",
   "execution_count": null,
   "id": "0d577134",
   "metadata": {},
   "outputs": [],
   "source": []
  },
  {
   "cell_type": "markdown",
   "id": "04390eb3",
   "metadata": {},
   "source": [
    "### Q.3. How can you create a custom exception class in Python? Provide an example that demonstrates its usage.  "
   ]
  },
  {
   "cell_type": "code",
   "execution_count": null,
   "id": "4798adac",
   "metadata": {},
   "outputs": [],
   "source": []
  },
  {
   "cell_type": "markdown",
   "id": "16a8c49a",
   "metadata": {},
   "source": [
    "### Q.4. What are some common exceptions that are built-in to Python?  "
   ]
  },
  {
   "cell_type": "code",
   "execution_count": null,
   "id": "3cd031ef",
   "metadata": {},
   "outputs": [],
   "source": []
  },
  {
   "cell_type": "markdown",
   "id": "937a52a0",
   "metadata": {},
   "source": [
    "### Q.5. What is logging in Python, and why is it important in software development?  "
   ]
  },
  {
   "cell_type": "code",
   "execution_count": null,
   "id": "501ac73c",
   "metadata": {},
   "outputs": [],
   "source": []
  },
  {
   "cell_type": "markdown",
   "id": "dfc9b867",
   "metadata": {},
   "source": [
    "### Q.6. Explain the purpose of log levels in Python logging and provide examples of when each log level would be appropriate.  "
   ]
  },
  {
   "cell_type": "code",
   "execution_count": null,
   "id": "0e1e3e00",
   "metadata": {},
   "outputs": [],
   "source": []
  },
  {
   "cell_type": "markdown",
   "id": "b5f4a8c1",
   "metadata": {},
   "source": [
    "### Q.7. What are log formatters in Python logging, and how can you customise the log message format using formatters?  "
   ]
  },
  {
   "cell_type": "code",
   "execution_count": null,
   "id": "6702efa0",
   "metadata": {},
   "outputs": [],
   "source": []
  },
  {
   "cell_type": "markdown",
   "id": "aa573eba",
   "metadata": {},
   "source": [
    "### Q.8. How can you set up logging to capture log messages from multiple modules or classes in a Python application?  "
   ]
  },
  {
   "cell_type": "code",
   "execution_count": null,
   "id": "fe988d37",
   "metadata": {},
   "outputs": [],
   "source": []
  },
  {
   "cell_type": "markdown",
   "id": "d64ec0a9",
   "metadata": {},
   "source": [
    "### Q.9. What is the difference between the logging and print statements in Python? When should you use logging over print statements in a real-world application?  "
   ]
  },
  {
   "cell_type": "code",
   "execution_count": null,
   "id": "d4a66e7e",
   "metadata": {},
   "outputs": [],
   "source": []
  },
  {
   "cell_type": "markdown",
   "id": "84a15185",
   "metadata": {},
   "source": [
    "### Q.10. Write a Python program that logs a message to a file named \"app.log\" with the following requirements:\n",
    "### ● The log message should be \"Hello, World!\"\n",
    "### ● The log level should be set to \"INFO.\"\n",
    "### ● The log file should append new log entries without overwriting previous ones.  "
   ]
  },
  {
   "cell_type": "code",
   "execution_count": null,
   "id": "07fa34b2",
   "metadata": {},
   "outputs": [],
   "source": []
  },
  {
   "cell_type": "markdown",
   "id": "a6e1d4a2",
   "metadata": {},
   "source": [
    "### Q.11. Create a Python program that logs an error message to the console and a file named \"errors.log\" if an exception occurs during the program's execution. The error message should include the exception type and a timestamp.  "
   ]
  },
  {
   "cell_type": "code",
   "execution_count": null,
   "id": "7952189d",
   "metadata": {},
   "outputs": [],
   "source": []
  },
  {
   "cell_type": "code",
   "execution_count": null,
   "id": "feca0b9c",
   "metadata": {},
   "outputs": [],
   "source": []
  }
 ],
 "metadata": {
  "kernelspec": {
   "display_name": "Python 3 (ipykernel)",
   "language": "python",
   "name": "python3"
  },
  "language_info": {
   "codemirror_mode": {
    "name": "ipython",
    "version": 3
   },
   "file_extension": ".py",
   "mimetype": "text/x-python",
   "name": "python",
   "nbconvert_exporter": "python",
   "pygments_lexer": "ipython3",
   "version": "3.10.9"
  }
 },
 "nbformat": 4,
 "nbformat_minor": 5
}
