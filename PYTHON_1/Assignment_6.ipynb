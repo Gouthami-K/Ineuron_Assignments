{
 "cells": [
  {
   "cell_type": "markdown",
   "id": "db8799c2",
   "metadata": {},
   "source": [
    "### Q.1. What are keywords in python? Using the keyword library, print all the python keywords. "
   ]
  },
  {
   "cell_type": "code",
   "execution_count": 3,
   "id": "0af8081e",
   "metadata": {},
   "outputs": [
    {
     "name": "stdout",
     "output_type": "stream",
     "text": [
      "['False', 'None', 'True', 'and', 'as', 'assert', 'async', 'await', 'break', 'class', 'continue', 'def', 'del', 'elif', 'else', 'except', 'finally', 'for', 'from', 'global', 'if', 'import', 'in', 'is', 'lambda', 'nonlocal', 'not', 'or', 'pass', 'raise', 'return', 'try', 'while', 'with', 'yield']\n"
     ]
    }
   ],
   "source": [
    "#Keywords are reserved words in python.\n",
    "import keyword\n",
    "print(keyword.kwlist)"
   ]
  },
  {
   "cell_type": "markdown",
   "id": "282251cf",
   "metadata": {},
   "source": [
    "###  Q.2. What are the rules to create variables in python?"
   ]
  },
  {
   "cell_type": "code",
   "execution_count": 1,
   "id": "812db1df",
   "metadata": {},
   "outputs": [],
   "source": [
    "# A variable name must start with a letter or the underscore character\n",
    "# A variable name cannot start with a number\n",
    "# A variable name can only contain alpha-numeric characters and underscores (A-z, 0-9, and _ )\n",
    "# Variable names are case-sensitive (age, Age and AGE are three different variables)\n",
    "# A variable name cannot be any of the Python keywords.\n"
   ]
  },
  {
   "cell_type": "markdown",
   "id": "84a1611e",
   "metadata": {},
   "source": [
    "### Q.3. What are the standards and conventions followed for the nomenclature of variables in python to improve code readability and maintainability? \n",
    " "
   ]
  },
  {
   "cell_type": "code",
   "execution_count": null,
   "id": "592ba6fc",
   "metadata": {},
   "outputs": [],
   "source": [
    "# Start variable names with a lowercase letter.\n",
    "# Use underscores to separate words in a variable name.\n",
    "# Use descriptive variable names.\n",
    "# Avoid using single-letter variable names.\n",
    "# Avoid using abbreviations in a variable names."
   ]
  },
  {
   "cell_type": "markdown",
   "id": "7f70df9a",
   "metadata": {},
   "source": [
    "### Q.4. What will happen if a keyword is used as a variable name? "
   ]
  },
  {
   "cell_type": "code",
   "execution_count": 5,
   "id": "e26ed824",
   "metadata": {},
   "outputs": [
    {
     "ename": "SyntaxError",
     "evalue": "invalid syntax (1460039060.py, line 2)",
     "output_type": "error",
     "traceback": [
      "\u001b[1;36m  Cell \u001b[1;32mIn[5], line 2\u001b[1;36m\u001b[0m\n\u001b[1;33m    in='hello'\u001b[0m\n\u001b[1;37m    ^\u001b[0m\n\u001b[1;31mSyntaxError\u001b[0m\u001b[1;31m:\u001b[0m invalid syntax\n"
     ]
    }
   ],
   "source": [
    "#It produces an SyntaxError if a keyword is used as a variable name\n",
    "in='hello'"
   ]
  },
  {
   "cell_type": "markdown",
   "id": "6fd675a5",
   "metadata": {},
   "source": [
    "### Q.5. For what purpose def keyword is used?  "
   ]
  },
  {
   "cell_type": "code",
   "execution_count": null,
   "id": "f8b08e11",
   "metadata": {},
   "outputs": [],
   "source": [
    "# def keyword is used to define a function and can call the function whenever required."
   ]
  },
  {
   "cell_type": "markdown",
   "id": "dcfc7690",
   "metadata": {},
   "source": [
    "### Q.6. What is the operation of this special character ‘\\’? "
   ]
  },
  {
   "cell_type": "code",
   "execution_count": null,
   "id": "b2f16841",
   "metadata": {},
   "outputs": [],
   "source": [
    "# The backslash is used to represent certain special characters within strings."
   ]
  },
  {
   "cell_type": "code",
   "execution_count": 8,
   "id": "8f69ee9a",
   "metadata": {},
   "outputs": [
    {
     "ename": "SyntaxError",
     "evalue": "invalid syntax (3628969824.py, line 1)",
     "output_type": "error",
     "traceback": [
      "\u001b[1;36m  Cell \u001b[1;32mIn[8], line 1\u001b[1;36m\u001b[0m\n\u001b[1;33m    a='Learning the 'basics' of python'\u001b[0m\n\u001b[1;37m                     ^\u001b[0m\n\u001b[1;31mSyntaxError\u001b[0m\u001b[1;31m:\u001b[0m invalid syntax\n"
     ]
    }
   ],
   "source": [
    "a='Learning the 'basics' of python'\n",
    "print(a)"
   ]
  },
  {
   "cell_type": "code",
   "execution_count": 9,
   "id": "c3131701",
   "metadata": {},
   "outputs": [
    {
     "name": "stdout",
     "output_type": "stream",
     "text": [
      "Learning the 'basics' of python\n"
     ]
    }
   ],
   "source": [
    "a='Learning the \\'basics\\' of python'\n",
    "print(a)"
   ]
  },
  {
   "cell_type": "markdown",
   "id": "dd7979f9",
   "metadata": {},
   "source": [
    "### Q.7. Give an example of the following conditions:  "
   ]
  },
  {
   "cell_type": "raw",
   "id": "93f2eb95",
   "metadata": {},
   "source": [
    "(i) Homogeneous list \n",
    "(ii) Heterogeneous set \n",
    "(iii) Homogeneous tuple"
   ]
  },
  {
   "cell_type": "code",
   "execution_count": 10,
   "id": "f6a1e06d",
   "metadata": {},
   "outputs": [],
   "source": [
    "#(i) Homogeneous list \n",
    "A=[1,20,54,2,96]"
   ]
  },
  {
   "cell_type": "code",
   "execution_count": 16,
   "id": "292b9c1c",
   "metadata": {},
   "outputs": [],
   "source": [
    "#(ii) Heterogeneous set \n",
    "B={12,'hello',('cat',78,25.6),20.7,True}"
   ]
  },
  {
   "cell_type": "code",
   "execution_count": 15,
   "id": "9b94adf0",
   "metadata": {},
   "outputs": [],
   "source": [
    "#(iii) Homogeneous tuple\n",
    "C=('yellow','blue','green','red')"
   ]
  },
  {
   "cell_type": "markdown",
   "id": "4c02773b",
   "metadata": {},
   "source": [
    "### Q.8. Explain the mutable and immutable data types with proper explanation & examples. "
   ]
  },
  {
   "cell_type": "code",
   "execution_count": 1,
   "id": "24e394e5",
   "metadata": {},
   "outputs": [],
   "source": [
    "# Mutable data types can be changed after they are created.This means that you can change the values of a mutable data type \n",
    "# or add or remove elements from it.Examples of mutable data types in Python are lists, dictionaries, and sets."
   ]
  },
  {
   "cell_type": "code",
   "execution_count": 2,
   "id": "92283e20",
   "metadata": {},
   "outputs": [
    {
     "name": "stdout",
     "output_type": "stream",
     "text": [
      "[10, 4, 6, 8]\n"
     ]
    }
   ],
   "source": [
    "mylist=[2,4,6,8]\n",
    "mylist[0]=10\n",
    "print(mylist)"
   ]
  },
  {
   "cell_type": "code",
   "execution_count": null,
   "id": "6bb8d51d",
   "metadata": {},
   "outputs": [],
   "source": [
    "# Immutable data types cannot be changed after they are created.This means that you cannot change the values of a immutable \n",
    "# data type or add or remove elements from it.Examples of immutable data types in Python are strings, tuples, and numbers."
   ]
  },
  {
   "cell_type": "code",
   "execution_count": 3,
   "id": "5eaae84a",
   "metadata": {},
   "outputs": [
    {
     "ename": "TypeError",
     "evalue": "'str' object does not support item assignment",
     "output_type": "error",
     "traceback": [
      "\u001b[1;31m---------------------------------------------------------------------------\u001b[0m",
      "\u001b[1;31mTypeError\u001b[0m                                 Traceback (most recent call last)",
      "Cell \u001b[1;32mIn[3], line 2\u001b[0m\n\u001b[0;32m      1\u001b[0m mystring\u001b[38;5;241m=\u001b[39m\u001b[38;5;124m'\u001b[39m\u001b[38;5;124mtom\u001b[39m\u001b[38;5;124m'\u001b[39m\n\u001b[1;32m----> 2\u001b[0m mystring[\u001b[38;5;241m2\u001b[39m]\u001b[38;5;241m=\u001b[39m\u001b[38;5;124m'\u001b[39m\u001b[38;5;124mn\u001b[39m\u001b[38;5;124m'\u001b[39m\n\u001b[0;32m      3\u001b[0m \u001b[38;5;28mprint\u001b[39m(mystring)\n",
      "\u001b[1;31mTypeError\u001b[0m: 'str' object does not support item assignment"
     ]
    }
   ],
   "source": [
    "mystring='tom'\n",
    "mystring[2]='n'\n",
    "print(mystring)"
   ]
  },
  {
   "cell_type": "markdown",
   "id": "cb938a8d",
   "metadata": {},
   "source": [
    "### Q.9. Write a code to create the given structure using only for loop.  "
   ]
  },
  {
   "cell_type": "code",
   "execution_count": null,
   "id": "72a26e2e",
   "metadata": {},
   "outputs": [],
   "source": [
    "#     * \n",
    "#    *** \n",
    "#   ***** \n",
    "#  ******* \n",
    "# ********* "
   ]
  },
  {
   "cell_type": "code",
   "execution_count": 4,
   "id": "af3369f4",
   "metadata": {},
   "outputs": [
    {
     "name": "stdout",
     "output_type": "stream",
     "text": [
      "    *\n",
      "   ***\n",
      "  *****\n",
      " *******\n",
      "*********\n"
     ]
    }
   ],
   "source": [
    "rows = 5\n",
    "\n",
    "for i in range(rows):\n",
    "    for j in range(rows - i - 1):\n",
    "        print(\" \", end=\"\")\n",
    "        \n",
    "    for k in range(2 * i + 1):\n",
    "        print(\"*\", end=\"\")\n",
    "        \n",
    "    print()\n"
   ]
  },
  {
   "cell_type": "markdown",
   "id": "5f99e9a0",
   "metadata": {},
   "source": [
    "### Q.10. Write a code to create the given structure using while loop. "
   ]
  },
  {
   "cell_type": "code",
   "execution_count": null,
   "id": "06223c2d",
   "metadata": {},
   "outputs": [],
   "source": [
    "# ||||||||| \n",
    "#  ||||||| \n",
    "#   ||||| \n",
    "#    ||| "
   ]
  },
  {
   "cell_type": "code",
   "execution_count": 28,
   "id": "accf3ebe",
   "metadata": {},
   "outputs": [
    {
     "name": "stdout",
     "output_type": "stream",
     "text": [
      "|||||||||\n",
      " |||||||\n",
      "  |||||\n",
      "   |||\n"
     ]
    }
   ],
   "source": [
    "rows = 4\n",
    "cols = 9\n",
    "i = 0\n",
    "\n",
    "while i < rows:\n",
    "    j = 0\n",
    "    while j < i:\n",
    "        print(\" \", end=\"\")\n",
    "        j += 1\n",
    "    \n",
    "    k = 0\n",
    "    while k < cols - 2 * i:\n",
    "        print(\"|\", end=\"\")\n",
    "        k += 1\n",
    "    \n",
    "    print()\n",
    "    i += 1\n"
   ]
  },
  {
   "cell_type": "code",
   "execution_count": null,
   "id": "876ab2f4",
   "metadata": {},
   "outputs": [],
   "source": []
  }
 ],
 "metadata": {
  "kernelspec": {
   "display_name": "Python 3 (ipykernel)",
   "language": "python",
   "name": "python3"
  },
  "language_info": {
   "codemirror_mode": {
    "name": "ipython",
    "version": 3
   },
   "file_extension": ".py",
   "mimetype": "text/x-python",
   "name": "python",
   "nbconvert_exporter": "python",
   "pygments_lexer": "ipython3",
   "version": "3.10.9"
  }
 },
 "nbformat": 4,
 "nbformat_minor": 5
}
