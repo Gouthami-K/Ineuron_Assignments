{
 "cells": [
  {
   "cell_type": "markdown",
   "id": "ab08f7ed",
   "metadata": {},
   "source": [
    "### 1. In the below elements which of them are values or an expression? eg:- values can be integer or string and expressions will be mathematical operators."
   ]
  },
  {
   "cell_type": "code",
   "execution_count": 1,
   "id": "16320a5e",
   "metadata": {},
   "outputs": [],
   "source": [
    "# *  :  expression\n",
    "# 'hello'  :  value\n",
    "# -87.8  :  value\n",
    "# -  :  expression\n",
    "# /  :  expression\n",
    "# +  :  expression\n",
    "# 6  :  value"
   ]
  },
  {
   "cell_type": "markdown",
   "id": "65d94ae5",
   "metadata": {},
   "source": [
    "### 2. What is the difference between string and variable?"
   ]
  },
  {
   "cell_type": "code",
   "execution_count": 2,
   "id": "96dd8959",
   "metadata": {},
   "outputs": [],
   "source": [
    "# String is a 'Text' data type, enclosed in single or double quotation marks.\n",
    "# Variables are containers for storing data values(of different types). Variables are created when you assign a value to it."
   ]
  },
  {
   "cell_type": "markdown",
   "id": "76d7bbef",
   "metadata": {},
   "source": [
    "### 3. Describe three different data types."
   ]
  },
  {
   "cell_type": "code",
   "execution_count": 3,
   "id": "54ead06f",
   "metadata": {},
   "outputs": [],
   "source": [
    "# Data Types are the categorised as follows:\n",
    "# Text Type:str\n",
    "# Numeric Types:int, float, complex\n",
    "# Sequence Types:list, tuple, range\n",
    "# Mapping Type:dict\n",
    "# Set Types:set, frozenset\n",
    "# Boolean Type:bool\n",
    "# Binary Types:bytes, bytearray, memoryview\n",
    "# None Type:NoneType"
   ]
  },
  {
   "cell_type": "code",
   "execution_count": 4,
   "id": "ce661d93",
   "metadata": {},
   "outputs": [],
   "source": [
    "# To explain 3 different data types, let us condider:\n",
    "# LIST: Lists are used to store multiple items in a single variable.\n",
    "#       List items are ordered, changeable, and allow duplicate values.\n",
    "#       Lists are created using square brackets\n",
    "# TUPLE: Tuples are used to store multiple items in a single variable.\n",
    "#        Tuple items are ordered, unchangeable, and allow duplicate values.\n",
    "#        Tuples are written with round brackets.\n",
    "# SET: Sets are used to store multiple items in a single variable.\n",
    "#      Set items are unordered, unchangeable, and do not allow duplicate values.\n",
    "#      Sets are written with curly brackets."
   ]
  },
  {
   "cell_type": "markdown",
   "id": "21c63f5a",
   "metadata": {},
   "source": [
    "### 4. What is an expression made up of? What do all expressions do?"
   ]
  },
  {
   "cell_type": "code",
   "execution_count": 5,
   "id": "6ca886b6",
   "metadata": {},
   "outputs": [],
   "source": [
    "#1. An expression is a combination of values, variables, operators, and function calls that are interpreted by a programming \n",
    "#   language to produce a result. It can be as simple as a single value or variable, or it can be a complex combination of\n",
    "#   multiple components.\n",
    "#2. Expressions are used to manipulate and transform data, make decisions based on conditions, and control the flow of a \n",
    "#   program."
   ]
  },
  {
   "cell_type": "markdown",
   "id": "b4f734dd",
   "metadata": {},
   "source": [
    "### 5. This assignment statements, like spam = 10. What is the difference between an expression and a statement?"
   ]
  },
  {
   "cell_type": "code",
   "execution_count": 6,
   "id": "8b83ace0",
   "metadata": {},
   "outputs": [],
   "source": [
    "#1. An expression when evaluated produces a result. Where as in the assignment statement a variable is assigned with a value,\n",
    "#   perform actions or control the flow of a program without producing a value."
   ]
  },
  {
   "cell_type": "markdown",
   "id": "e1b4ca90",
   "metadata": {},
   "source": [
    "### 6. After running the following code, what does the variable bacon contain?\n",
    "bacon = 22\\\n",
    "bacon + 1 "
   ]
  },
  {
   "cell_type": "code",
   "execution_count": 7,
   "id": "bb3edebe",
   "metadata": {},
   "outputs": [
    {
     "data": {
      "text/plain": [
       "23"
      ]
     },
     "execution_count": 7,
     "metadata": {},
     "output_type": "execute_result"
    }
   ],
   "source": [
    "bacon = 22\n",
    "bacon + 1"
   ]
  },
  {
   "cell_type": "code",
   "execution_count": 8,
   "id": "f55cda80",
   "metadata": {},
   "outputs": [
    {
     "data": {
      "text/plain": [
       "22"
      ]
     },
     "execution_count": 8,
     "metadata": {},
     "output_type": "execute_result"
    }
   ],
   "source": [
    "bacon #The variable 'bacon' will still contain the value 22."
   ]
  },
  {
   "cell_type": "markdown",
   "id": "ad2efe8a",
   "metadata": {},
   "source": [
    "### 7. What should the values of the following two terms be?\n",
    "'spam' + 'spamspam'\\\n",
    "'spam' * 3"
   ]
  },
  {
   "cell_type": "code",
   "execution_count": 9,
   "id": "4e19b7eb",
   "metadata": {},
   "outputs": [
    {
     "data": {
      "text/plain": [
       "'spamspamspam'"
      ]
     },
     "execution_count": 9,
     "metadata": {},
     "output_type": "execute_result"
    }
   ],
   "source": [
    "'spam' + 'spamspam'"
   ]
  },
  {
   "cell_type": "code",
   "execution_count": 10,
   "id": "feee9909",
   "metadata": {},
   "outputs": [
    {
     "data": {
      "text/plain": [
       "'spamspamspam'"
      ]
     },
     "execution_count": 10,
     "metadata": {},
     "output_type": "execute_result"
    }
   ],
   "source": [
    "'spam' * 3"
   ]
  },
  {
   "cell_type": "markdown",
   "id": "502a9809",
   "metadata": {},
   "source": [
    "### 8. Why is eggs a valid variable name while 100 is invalid? "
   ]
  },
  {
   "cell_type": "code",
   "execution_count": 11,
   "id": "97018771",
   "metadata": {},
   "outputs": [],
   "source": [
    "# As a variable name cannot start with a number 100 is invalid variable name."
   ]
  },
  {
   "cell_type": "markdown",
   "id": "c00424bb",
   "metadata": {},
   "source": [
    "###  9. What three functions can be used to get the integer, floating-point number, or string version of a value?"
   ]
  },
  {
   "cell_type": "code",
   "execution_count": 12,
   "id": "58da7f3d",
   "metadata": {},
   "outputs": [],
   "source": [
    "# This can be done by using casting:\n",
    "# 1.int()\n",
    "# 2.float()\n",
    "# 3.str()"
   ]
  },
  {
   "cell_type": "code",
   "execution_count": 13,
   "id": "d3b4d029",
   "metadata": {},
   "outputs": [
    {
     "name": "stdout",
     "output_type": "stream",
     "text": [
      "2\n",
      "2.0\n",
      "2\n",
      "<class 'int'>\n",
      "<class 'float'>\n",
      "<class 'str'>\n"
     ]
    }
   ],
   "source": [
    "#If we consider value is 2:\n",
    "a=int(2)\n",
    "b=float(2)\n",
    "c=str(2)\n",
    "print(a)\n",
    "print(b)\n",
    "print(c)\n",
    "print(type(a))\n",
    "print(type(b))\n",
    "print(type(c))"
   ]
  },
  {
   "cell_type": "markdown",
   "id": "b6e5c5c4",
   "metadata": {},
   "source": [
    "### 10. Why does this expression cause an error? How can you fix it?\n",
    "'I have eaten' + 99 + 'burritos.'"
   ]
  },
  {
   "cell_type": "code",
   "execution_count": 14,
   "id": "ef80c02a",
   "metadata": {},
   "outputs": [
    {
     "ename": "TypeError",
     "evalue": "can only concatenate str (not \"int\") to str",
     "output_type": "error",
     "traceback": [
      "\u001b[1;31m---------------------------------------------------------------------------\u001b[0m",
      "\u001b[1;31mTypeError\u001b[0m                                 Traceback (most recent call last)",
      "Cell \u001b[1;32mIn[14], line 2\u001b[0m\n\u001b[0;32m      1\u001b[0m \u001b[38;5;66;03m# This expression is causing an error because we are concatenating string and integer.\u001b[39;00m\n\u001b[1;32m----> 2\u001b[0m \u001b[38;5;124;43m'\u001b[39;49m\u001b[38;5;124;43mI have eaten \u001b[39;49m\u001b[38;5;124;43m'\u001b[39;49m\u001b[43m \u001b[49m\u001b[38;5;241;43m+\u001b[39;49m\u001b[43m \u001b[49m\u001b[38;5;241;43m99\u001b[39;49m \u001b[38;5;241m+\u001b[39m \u001b[38;5;124m'\u001b[39m\u001b[38;5;124m burritos.\u001b[39m\u001b[38;5;124m'\u001b[39m\n",
      "\u001b[1;31mTypeError\u001b[0m: can only concatenate str (not \"int\") to str"
     ]
    }
   ],
   "source": [
    "# This expression is causing an error because we are concatenating string and integer.\n",
    "'I have eaten ' + 99 + ' burritos.'"
   ]
  },
  {
   "cell_type": "code",
   "execution_count": null,
   "id": "0629f3ff",
   "metadata": {},
   "outputs": [],
   "source": [
    "#Convert integer to string\n",
    "'I have eaten ' + str(99) + ' burritos.'"
   ]
  },
  {
   "cell_type": "code",
   "execution_count": null,
   "id": "54de5004",
   "metadata": {},
   "outputs": [],
   "source": []
  }
 ],
 "metadata": {
  "kernelspec": {
   "display_name": "Python 3 (ipykernel)",
   "language": "python",
   "name": "python3"
  },
  "language_info": {
   "codemirror_mode": {
    "name": "ipython",
    "version": 3
   },
   "file_extension": ".py",
   "mimetype": "text/x-python",
   "name": "python",
   "nbconvert_exporter": "python",
   "pygments_lexer": "ipython3",
   "version": "3.10.9"
  }
 },
 "nbformat": 4,
 "nbformat_minor": 5
}
