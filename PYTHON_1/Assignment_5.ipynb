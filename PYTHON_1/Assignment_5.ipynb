{
 "cells": [
  {
   "cell_type": "markdown",
   "id": "6feb9fec",
   "metadata": {},
   "source": [
    "### 1. What does an empty dictionary's code look like?"
   ]
  },
  {
   "cell_type": "code",
   "execution_count": 3,
   "id": "33de86a0",
   "metadata": {},
   "outputs": [
    {
     "data": {
      "text/plain": [
       "dict"
      ]
     },
     "execution_count": 3,
     "metadata": {},
     "output_type": "execute_result"
    }
   ],
   "source": [
    "dictionary={}\n",
    "type(dictionary)"
   ]
  },
  {
   "cell_type": "markdown",
   "id": "0220d4b1",
   "metadata": {},
   "source": [
    "### 2. What is the value of a dictionary value with the key 'foo' and the value 42? "
   ]
  },
  {
   "cell_type": "code",
   "execution_count": 10,
   "id": "b43ad625",
   "metadata": {},
   "outputs": [
    {
     "data": {
      "text/plain": [
       "dict_values([42])"
      ]
     },
     "execution_count": 10,
     "metadata": {},
     "output_type": "execute_result"
    }
   ],
   "source": [
    "d={'foo':42}\n",
    "d.values()"
   ]
  },
  {
   "cell_type": "markdown",
   "id": "a31dd021",
   "metadata": {},
   "source": [
    "###  3. What is the most significant distinction between a dictionary and a list?"
   ]
  },
  {
   "cell_type": "code",
   "execution_count": null,
   "id": "1631625c",
   "metadata": {},
   "outputs": [],
   "source": [
    "# list contains only items/elements and stores elements in an ordered sequence which can be accessed using integer indices.\n",
    "# dictionary contain items which have key and value pair, retrieve values based on unique keys"
   ]
  },
  {
   "cell_type": "markdown",
   "id": "82d54903",
   "metadata": {},
   "source": [
    "### 4. What happens if you try to access spam['foo'] if spam is {'bar': 100}? "
   ]
  },
  {
   "cell_type": "code",
   "execution_count": 17,
   "id": "f50379e2",
   "metadata": {},
   "outputs": [
    {
     "ename": "KeyError",
     "evalue": "'foo'",
     "output_type": "error",
     "traceback": [
      "\u001b[1;31m---------------------------------------------------------------------------\u001b[0m",
      "\u001b[1;31mKeyError\u001b[0m                                  Traceback (most recent call last)",
      "Cell \u001b[1;32mIn[17], line 3\u001b[0m\n\u001b[0;32m      1\u001b[0m \u001b[38;5;66;03m#It gives KeyError as there is no such key in the spam dictionary. \u001b[39;00m\n\u001b[0;32m      2\u001b[0m spam\u001b[38;5;241m=\u001b[39m {\u001b[38;5;124m'\u001b[39m\u001b[38;5;124mbar\u001b[39m\u001b[38;5;124m'\u001b[39m: \u001b[38;5;241m100\u001b[39m}\n\u001b[1;32m----> 3\u001b[0m a\u001b[38;5;241m=\u001b[39m\u001b[43mspam\u001b[49m\u001b[43m[\u001b[49m\u001b[38;5;124;43m'\u001b[39;49m\u001b[38;5;124;43mfoo\u001b[39;49m\u001b[38;5;124;43m'\u001b[39;49m\u001b[43m]\u001b[49m\n\u001b[0;32m      4\u001b[0m \u001b[38;5;28mprint\u001b[39m(a)\n",
      "\u001b[1;31mKeyError\u001b[0m: 'foo'"
     ]
    }
   ],
   "source": [
    "#It gives KeyError as there is no such key in the spam dictionary. \n",
    "spam= {'bar': 100}\n",
    "a=spam['foo']\n",
    "print(a)"
   ]
  },
  {
   "cell_type": "markdown",
   "id": "c677b34c",
   "metadata": {},
   "source": [
    "### 5. If a dictionary is stored in spam, what is the difference between the expressions 'cat' in spam and 'cat' in spam.keys()?"
   ]
  },
  {
   "cell_type": "code",
   "execution_count": 18,
   "id": "4ef9fef6",
   "metadata": {},
   "outputs": [
    {
     "data": {
      "text/plain": [
       "10"
      ]
     },
     "execution_count": 18,
     "metadata": {},
     "output_type": "execute_result"
    }
   ],
   "source": [
    "# It gives the value of the specified key only\n",
    "spam={'cat':10}\n",
    "spam['cat']"
   ]
  },
  {
   "cell_type": "code",
   "execution_count": 21,
   "id": "85e82da1",
   "metadata": {},
   "outputs": [
    {
     "data": {
      "text/plain": [
       "dict_keys(['cat'])"
      ]
     },
     "execution_count": 21,
     "metadata": {},
     "output_type": "execute_result"
    }
   ],
   "source": [
    "# It gives all the keys present in the dictionary\n",
    "spam={'cat':10}\n",
    "spam.keys()"
   ]
  },
  {
   "cell_type": "markdown",
   "id": "f0dca855",
   "metadata": {},
   "source": [
    "###  6. If a dictionary is stored in spam, what is the difference between the expressions 'cat' in spam and 'cat' in spam.values()?"
   ]
  },
  {
   "cell_type": "code",
   "execution_count": 22,
   "id": "0124882a",
   "metadata": {},
   "outputs": [
    {
     "data": {
      "text/plain": [
       "20"
      ]
     },
     "execution_count": 22,
     "metadata": {},
     "output_type": "execute_result"
    }
   ],
   "source": [
    "# It gives the value of the specified key only\n",
    "spam={'cat':20}\n",
    "spam['cat']"
   ]
  },
  {
   "cell_type": "code",
   "execution_count": 2,
   "id": "723c7c1d",
   "metadata": {},
   "outputs": [
    {
     "data": {
      "text/plain": [
       "dict_values([10])"
      ]
     },
     "execution_count": 2,
     "metadata": {},
     "output_type": "execute_result"
    }
   ],
   "source": [
    "# It gives all the values present in the dictionary\n",
    "spam={'cat':10}\n",
    "spam.values()"
   ]
  },
  {
   "cell_type": "markdown",
   "id": "ee5a6eef",
   "metadata": {},
   "source": [
    "###  7. What is a shortcut for the following code?"
   ]
  },
  {
   "cell_type": "code",
   "execution_count": 5,
   "id": "53bd6bb2",
   "metadata": {},
   "outputs": [],
   "source": [
    "if 'color' not in spam:\n",
    "    spam['color'] = 'black'"
   ]
  },
  {
   "cell_type": "code",
   "execution_count": 6,
   "id": "cecddb29",
   "metadata": {},
   "outputs": [
    {
     "data": {
      "text/plain": [
       "'black'"
      ]
     },
     "execution_count": 6,
     "metadata": {},
     "output_type": "execute_result"
    }
   ],
   "source": [
    "spam.setdefault('color', 'black')"
   ]
  },
  {
   "cell_type": "markdown",
   "id": "3a45d336",
   "metadata": {},
   "source": [
    "### 8. How do you \"pretty print\" dictionary values using which module and function?"
   ]
  },
  {
   "cell_type": "code",
   "execution_count": 6,
   "id": "1dfcfae9",
   "metadata": {},
   "outputs": [],
   "source": [
    "#To \"pretty print\" dictionary values in Python, you can use the pprint module and the pprint() function."
   ]
  },
  {
   "cell_type": "code",
   "execution_count": 7,
   "id": "89ff516f",
   "metadata": {},
   "outputs": [
    {
     "name": "stdout",
     "output_type": "stream",
     "text": [
      "{'address': {'city': 'Anytown',\n",
      "             'state': 'CA',\n",
      "             'street': '123 Main Street',\n",
      "             'zipcode': 12345},\n",
      " 'age': 30,\n",
      " 'hobbies': ['coding', 'hiking', 'reading'],\n",
      " 'name': 'John Doe'}\n"
     ]
    }
   ],
   "source": [
    "import pprint\n",
    "dict_data = {\n",
    "    \"name\": \"John Doe\",\n",
    "    \"age\": 30,\n",
    "    \"address\": {\n",
    "        \"street\": \"123 Main Street\",\n",
    "        \"city\": \"Anytown\",\n",
    "        \"state\": \"CA\",\n",
    "        \"zipcode\": 12345,\n",
    "    },\n",
    "    \"hobbies\": [\"coding\", \"hiking\", \"reading\"],\n",
    "}\n",
    "\n",
    "pprint.pprint(dict_data)\n"
   ]
  },
  {
   "cell_type": "code",
   "execution_count": null,
   "id": "42bd47ba",
   "metadata": {},
   "outputs": [],
   "source": []
  }
 ],
 "metadata": {
  "kernelspec": {
   "display_name": "Python 3 (ipykernel)",
   "language": "python",
   "name": "python3"
  },
  "language_info": {
   "codemirror_mode": {
    "name": "ipython",
    "version": 3
   },
   "file_extension": ".py",
   "mimetype": "text/x-python",
   "name": "python",
   "nbconvert_exporter": "python",
   "pygments_lexer": "ipython3",
   "version": "3.10.9"
  }
 },
 "nbformat": 4,
 "nbformat_minor": 5
}
