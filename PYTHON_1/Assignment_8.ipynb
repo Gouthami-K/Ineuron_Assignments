{
 "cells": [
  {
   "cell_type": "markdown",
   "id": "4ec36b81",
   "metadata": {},
   "source": [
    "### Q.1. In Python, what is the difference between a built-in function and a user-defined function? Provide an example of each."
   ]
  },
  {
   "cell_type": "code",
   "execution_count": 1,
   "id": "11909f4a",
   "metadata": {},
   "outputs": [],
   "source": [
    "# Built-in function:\n",
    "# A built-in function is a function that is included in Python's standard library and is readily available for use without requiring any additional imports or installations."
   ]
  },
  {
   "cell_type": "code",
   "execution_count": 2,
   "id": "d83af33d",
   "metadata": {},
   "outputs": [
    {
     "name": "stdout",
     "output_type": "stream",
     "text": [
      "5\n"
     ]
    }
   ],
   "source": [
    "# The built-in function len() returns the number of elements in a sequence.\n",
    "my_list = [1, 2, 3, 4, 5]\n",
    "length_of_list = len(my_list)\n",
    "print(length_of_list)"
   ]
  },
  {
   "cell_type": "code",
   "execution_count": 3,
   "id": "b6a8ab49",
   "metadata": {},
   "outputs": [],
   "source": [
    "# User-defined function:\n",
    "# A user-defined function is a function that is defined by the programmer to perform a specific task or set of tasks. These functions are created using the def keyword followed by the function name, parameters (if any), and the block of code that constitutes the function's logic."
   ]
  },
  {
   "cell_type": "code",
   "execution_count": 4,
   "id": "b74c75b1",
   "metadata": {},
   "outputs": [
    {
     "name": "stdout",
     "output_type": "stream",
     "text": [
      "50\n"
     ]
    }
   ],
   "source": [
    "# A user-defined function to calculate the area of a rectangle.\n",
    "def calculate_area(length, width):\n",
    "    area = length * width\n",
    "    return area\n",
    "\n",
    "# Calling the user-defined function with arguments and storing the result in a variable.\n",
    "rectangle_area = calculate_area(5, 10)\n",
    "print(rectangle_area)\n"
   ]
  },
  {
   "cell_type": "markdown",
   "id": "c17f9b71",
   "metadata": {},
   "source": [
    "### Q.2. How can you pass arguments to a function in Python? Explain the difference between positional arguments and keyword arguments."
   ]
  },
  {
   "cell_type": "code",
   "execution_count": 5,
   "id": "4b6f58aa",
   "metadata": {},
   "outputs": [],
   "source": [
    "# Arguments are values that are passed inside parentheses when calling a function. \n",
    "# There are two ways to pass arguments to a function in Python:\n",
    "# 1. Positional arguments\n",
    "# 2. Keyword arguments"
   ]
  },
  {
   "cell_type": "code",
   "execution_count": 6,
   "id": "8f589de2",
   "metadata": {},
   "outputs": [
    {
     "ename": "SyntaxError",
     "evalue": "invalid syntax (1332419787.py, line 2)",
     "output_type": "error",
     "traceback": [
      "\u001b[1;36m  Cell \u001b[1;32mIn[6], line 2\u001b[1;36m\u001b[0m\n\u001b[1;33m    Positional arguments are the most common way to pass arguments to a function. They are provided in the order in which the function's parameters are defined. The values are matched based on their positions. The number of arguments and their order must match the function's parameter list.\u001b[0m\n\u001b[1;37m               ^\u001b[0m\n\u001b[1;31mSyntaxError\u001b[0m\u001b[1;31m:\u001b[0m invalid syntax\n"
     ]
    }
   ],
   "source": [
    "# 1. Positional arguments:\n",
    "Positional arguments are the most common way to pass arguments to a function. They are provided in the order in which the function's parameters are defined. The values are matched based on their positions. The number of arguments and their order must match the function's parameter list."
   ]
  },
  {
   "cell_type": "code",
   "execution_count": 7,
   "id": "e4747526",
   "metadata": {},
   "outputs": [
    {
     "name": "stdout",
     "output_type": "stream",
     "text": [
      "15\n"
     ]
    }
   ],
   "source": [
    "def add_numbers(a, b):\n",
    "    result = a + b\n",
    "    return result\n",
    "\n",
    "#the arguments 5 and 10 are passed as positional arguments and they correspond to the parameters a and b of the add_numbers function, respectively\n",
    "sum_result = add_numbers(5, 10)\n",
    "print(sum_result) \n"
   ]
  },
  {
   "cell_type": "code",
   "execution_count": 8,
   "id": "3af1dd6b",
   "metadata": {},
   "outputs": [
    {
     "ename": "SyntaxError",
     "evalue": "unterminated string literal (detected at line 2) (780404346.py, line 2)",
     "output_type": "error",
     "traceback": [
      "\u001b[1;36m  Cell \u001b[1;32mIn[8], line 2\u001b[1;36m\u001b[0m\n\u001b[1;33m    Keyword arguments allow you to specify the name of the parameter along with its corresponding value when calling a function. This way, the order of the arguments doesn't matter, and you can provide only the necessary arguments, skipping others with default values.\u001b[0m\n\u001b[1;37m                                                                                                                                                                           ^\u001b[0m\n\u001b[1;31mSyntaxError\u001b[0m\u001b[1;31m:\u001b[0m unterminated string literal (detected at line 2)\n"
     ]
    }
   ],
   "source": [
    "# 2. Keyword arguments:\n",
    "Keyword arguments allow you to specify the name of the parameter along with its corresponding value when calling a function. This way, the order of the arguments doesn't matter, and you can provide only the necessary arguments, skipping others with default values."
   ]
  },
  {
   "cell_type": "code",
   "execution_count": 9,
   "id": "6f960f2d",
   "metadata": {},
   "outputs": [
    {
     "name": "stdout",
     "output_type": "stream",
     "text": [
      "Hi, Alice!\n",
      "Hey, Bob!\n",
      "Hello, Charlie!\n"
     ]
    }
   ],
   "source": [
    "def greet(name, greeting=\"Hello\"):\n",
    "    return f\"{greeting}, {name}!\"\n",
    "\n",
    "greeting_msg = greet(name=\"Alice\", greeting=\"Hi\")\n",
    "print(greeting_msg)\n",
    "\n",
    "greeting_msg2 = greet(greeting=\"Hey\", name=\"Bob\")\n",
    "print(greeting_msg2)\n",
    "\n",
    "# Using default value for 'greeting'\n",
    "greeting_msg3 = greet(\"Charlie\") \n",
    "print(greeting_msg3)\n"
   ]
  },
  {
   "cell_type": "markdown",
   "id": "22837af3",
   "metadata": {},
   "source": [
    "###  Q.3. What is the purpose of the return statement in a function? Can a function have multiple return statements? Explain with an example."
   ]
  },
  {
   "cell_type": "code",
   "execution_count": 10,
   "id": "484e3203",
   "metadata": {},
   "outputs": [],
   "source": [
    "# The return statement in a function serves the purpose of specifying the value that the function should return to the caller.\n",
    "# Yes, a function can have multiple return statements. Once a return statement is executed, the function exits and returns the specified value. "
   ]
  },
  {
   "cell_type": "code",
   "execution_count": 11,
   "id": "9d302291",
   "metadata": {},
   "outputs": [],
   "source": [
    "def check_number(number):\n",
    "    if number > 0:\n",
    "        return \"Positive\"\n",
    "    elif number < 0:\n",
    "        return \"Negative\"\n",
    "    else:\n",
    "        return \"Zero\""
   ]
  },
  {
   "cell_type": "code",
   "execution_count": 12,
   "id": "819caf9b",
   "metadata": {},
   "outputs": [
    {
     "data": {
      "text/plain": [
       "'Positive'"
      ]
     },
     "execution_count": 12,
     "metadata": {},
     "output_type": "execute_result"
    }
   ],
   "source": [
    "# Call the function with different arguments and store the result in a variable.\n",
    "num1 = check_number(10)\n",
    "num1"
   ]
  },
  {
   "cell_type": "code",
   "execution_count": 13,
   "id": "da361ee3",
   "metadata": {},
   "outputs": [
    {
     "data": {
      "text/plain": [
       "'Negative'"
      ]
     },
     "execution_count": 13,
     "metadata": {},
     "output_type": "execute_result"
    }
   ],
   "source": [
    "num2 = check_number(-5)\n",
    "num2"
   ]
  },
  {
   "cell_type": "code",
   "execution_count": 14,
   "id": "791a8e78",
   "metadata": {},
   "outputs": [
    {
     "data": {
      "text/plain": [
       "'Zero'"
      ]
     },
     "execution_count": 14,
     "metadata": {},
     "output_type": "execute_result"
    }
   ],
   "source": [
    "num3 = check_number(0)\n",
    "num3"
   ]
  },
  {
   "cell_type": "markdown",
   "id": "7c5ee662",
   "metadata": {},
   "source": [
    "### Q.4. What are lambda functions in Python? How are they different from regular functions? Provide an example where a lambda function can be useful. "
   ]
  },
  {
   "cell_type": "code",
   "execution_count": 15,
   "id": "310b5a83",
   "metadata": {},
   "outputs": [
    {
     "data": {
      "text/plain": [
       "<function __main__.<lambda>(arguments)>"
      ]
     },
     "execution_count": 15,
     "metadata": {},
     "output_type": "execute_result"
    }
   ],
   "source": [
    "# Lambda functions in Python are small, anonymous functions that are defined using the lambda keyword. They are a way to create simple, one-line functions without the need for explicitly defining a function using the def keyword.\n",
    "# The syntax of a lambda function is\n",
    "lambda arguments: expression"
   ]
  },
  {
   "cell_type": "code",
   "execution_count": 16,
   "id": "78228116",
   "metadata": {},
   "outputs": [],
   "source": [
    "# Lambda functions have the following characteristics:\n",
    "\n",
    "# 1. They can have any number of arguments but must have exactly one expression.\n",
    "# 2. They do not have a name and are typically used where a small function is required for a short period."
   ]
  },
  {
   "cell_type": "code",
   "execution_count": 17,
   "id": "ec00b05a",
   "metadata": {},
   "outputs": [
    {
     "data": {
      "text/plain": [
       "71"
      ]
     },
     "execution_count": 17,
     "metadata": {},
     "output_type": "execute_result"
    }
   ],
   "source": [
    "# Regular function to add two numbers\n",
    "def add(x, y):\n",
    "    return x + y\n",
    "\n",
    "reg_func=add(5,66)\n",
    "reg_func"
   ]
  },
  {
   "cell_type": "code",
   "execution_count": 18,
   "id": "b291442d",
   "metadata": {},
   "outputs": [
    {
     "data": {
      "text/plain": [
       "15"
      ]
     },
     "execution_count": 18,
     "metadata": {},
     "output_type": "execute_result"
    }
   ],
   "source": [
    "# Equivalent lambda function for adding two numbers\n",
    "add_lambda = lambda x, y: x + y\n",
    "\n",
    "result = add_lambda(5, 10)\n",
    "result"
   ]
  },
  {
   "cell_type": "markdown",
   "id": "da3d710f",
   "metadata": {},
   "source": [
    "### Q.5. How does the concept of \"scope\" apply to functions in Python? Explain the difference between local scope and global scope."
   ]
  },
  {
   "cell_type": "code",
   "execution_count": 19,
   "id": "c5686fd8",
   "metadata": {},
   "outputs": [],
   "source": [
    "# In Python, \"scope\" refers to the region of a program where a particular variable is accessible or visible.\n",
    "# There are two main types of scope in Python: Local Scope and Global Scope."
   ]
  },
  {
   "cell_type": "code",
   "execution_count": 20,
   "id": "849030a2",
   "metadata": {},
   "outputs": [
    {
     "ename": "SyntaxError",
     "evalue": "unterminated string literal (detected at line 2) (3777795587.py, line 2)",
     "output_type": "error",
     "traceback": [
      "\u001b[1;36m  Cell \u001b[1;32mIn[20], line 2\u001b[1;36m\u001b[0m\n\u001b[1;33m    A variable defined inside a function is said to have local scope. Local scope means the variable is only accessible within the function in which it is defined. Once the function finishes its execution, the variable's scope ends, and it can no longer be accessed from outside the function.\u001b[0m\n\u001b[1;37m                                                                                                                                                                                                                          ^\u001b[0m\n\u001b[1;31mSyntaxError\u001b[0m\u001b[1;31m:\u001b[0m unterminated string literal (detected at line 2)\n"
     ]
    }
   ],
   "source": [
    "# Local Scope:\n",
    "A variable defined inside a function is said to have local scope. Local scope means the variable is only accessible within the function in which it is defined. Once the function finishes its execution, the variable's scope ends, and it can no longer be accessed from outside the function."
   ]
  },
  {
   "cell_type": "code",
   "execution_count": 21,
   "id": "0e14eb04",
   "metadata": {},
   "outputs": [
    {
     "name": "stdout",
     "output_type": "stream",
     "text": [
      "10\n"
     ]
    }
   ],
   "source": [
    "def my_function():\n",
    "    x = 10  # Local variable, accessible only within this function\n",
    "    print(x)\n",
    "    \n",
    "my_function()"
   ]
  },
  {
   "cell_type": "code",
   "execution_count": 22,
   "id": "9f437637",
   "metadata": {},
   "outputs": [
    {
     "ename": "NameError",
     "evalue": "name 'x' is not defined",
     "output_type": "error",
     "traceback": [
      "\u001b[1;31m---------------------------------------------------------------------------\u001b[0m",
      "\u001b[1;31mNameError\u001b[0m                                 Traceback (most recent call last)",
      "Cell \u001b[1;32mIn[22], line 1\u001b[0m\n\u001b[1;32m----> 1\u001b[0m \u001b[38;5;28mprint\u001b[39m(\u001b[43mx\u001b[49m)\n",
      "\u001b[1;31mNameError\u001b[0m: name 'x' is not defined"
     ]
    }
   ],
   "source": [
    "print(x)"
   ]
  },
  {
   "cell_type": "code",
   "execution_count": null,
   "id": "6de141d1",
   "metadata": {},
   "outputs": [],
   "source": [
    "# lobal Scope:\n",
    "A variable defined outside of any function or at the top level of a script/module is said to have global scope. A globally scoped variable can be accessed from anywhere within the code, including inside functions."
   ]
  },
  {
   "cell_type": "code",
   "execution_count": null,
   "id": "b771eed7",
   "metadata": {},
   "outputs": [],
   "source": [
    "y = 20  # Global variable, accessible throughout the code\n",
    "\n",
    "def my_function():\n",
    "    print(y)  # Accessing the global variable y\n",
    "\n",
    "my_function()"
   ]
  },
  {
   "cell_type": "code",
   "execution_count": null,
   "id": "c047e166",
   "metadata": {},
   "outputs": [],
   "source": [
    "print(y)"
   ]
  },
  {
   "cell_type": "markdown",
   "id": "9affd36b",
   "metadata": {},
   "source": [
    "### Q.6. How can you use the \"return\" statement in a Python function to return multiple values? "
   ]
  },
  {
   "cell_type": "code",
   "execution_count": null,
   "id": "d5411650",
   "metadata": {},
   "outputs": [],
   "source": [
    "def calculate_statistics(numbers):\n",
    "    total = sum(numbers)\n",
    "    average = total/len(numbers)\n",
    "    maximum = max(numbers)\n",
    "    minimum = min(numbers)\n",
    "    return total, average, maximum, minimum\n",
    "\n",
    "# Call the function and unpack the returned tuple into separate variables\n",
    "data = [10, 20, 30, 40, 50]\n",
    "total_sum, avg, max_value, min_value = calculate_statistics(data)\n",
    "\n",
    "print(f\"Total Sum: {total_sum}\")\n",
    "print(f\"Average: {avg}\")\n",
    "print(f\"Maximum Value: {max_value}\")\n",
    "print(f\"Minimum Value: {min_value}\")\n"
   ]
  },
  {
   "cell_type": "markdown",
   "id": "44d72ffb",
   "metadata": {},
   "source": [
    "### Q.7. What is the difference between the \"pass by value\" and \"pass by reference\" concepts when it comes to function arguments in Python? "
   ]
  },
  {
   "cell_type": "code",
   "execution_count": 23,
   "id": "2d03b360",
   "metadata": {},
   "outputs": [],
   "source": [
    "# So you know how we pass a variable in function like sum = sum (a,b) like this Now if you are not returning anything in \n",
    "# function... Sum will contain none and you wont have your answer and a and b values can not be changed from inside the \n",
    "# function this is pass by value.\n",
    "# in pass by reference any values that you send in the function can be changed and it will also get changed outside the \n",
    "# function."
   ]
  },
  {
   "cell_type": "markdown",
   "id": "35fbed28",
   "metadata": {},
   "source": [
    "### Q.8. Create a function that can intake integer or decimal value and do following operations:\n",
    "##### a. Logarithmic function (log x)\n",
    "##### b. Exponential function (exp(x))\n",
    "##### c. Power function with base 2 (2^x)\n",
    "##### d. Square root "
   ]
  },
  {
   "cell_type": "code",
   "execution_count": 24,
   "id": "2d38698f",
   "metadata": {},
   "outputs": [],
   "source": [
    "import math\n",
    "\n",
    "def operations(value):\n",
    "    log = math.log(value)\n",
    "    exp = math.exp(value)\n",
    "    power = math.pow(2, value)\n",
    "    sqrt = math.sqrt(value)\n",
    "    return log, exp, power, sqrt"
   ]
  },
  {
   "cell_type": "code",
   "execution_count": 25,
   "id": "08f3b062",
   "metadata": {},
   "outputs": [],
   "source": [
    "integer_value = 4"
   ]
  },
  {
   "cell_type": "code",
   "execution_count": 26,
   "id": "2fa143f9",
   "metadata": {},
   "outputs": [],
   "source": [
    "obj=operations(integer_value)"
   ]
  },
  {
   "cell_type": "code",
   "execution_count": 27,
   "id": "6268bfe6",
   "metadata": {},
   "outputs": [
    {
     "data": {
      "text/plain": [
       "1.3862943611198906"
      ]
     },
     "execution_count": 27,
     "metadata": {},
     "output_type": "execute_result"
    }
   ],
   "source": [
    "obj[0]"
   ]
  },
  {
   "cell_type": "code",
   "execution_count": 28,
   "id": "f4cd21ee",
   "metadata": {},
   "outputs": [
    {
     "data": {
      "text/plain": [
       "54.598150033144236"
      ]
     },
     "execution_count": 28,
     "metadata": {},
     "output_type": "execute_result"
    }
   ],
   "source": [
    "obj[1]"
   ]
  },
  {
   "cell_type": "code",
   "execution_count": 29,
   "id": "e99177f5",
   "metadata": {},
   "outputs": [
    {
     "data": {
      "text/plain": [
       "16.0"
      ]
     },
     "execution_count": 29,
     "metadata": {},
     "output_type": "execute_result"
    }
   ],
   "source": [
    "obj[2]"
   ]
  },
  {
   "cell_type": "code",
   "execution_count": 30,
   "id": "eae796f3",
   "metadata": {},
   "outputs": [
    {
     "data": {
      "text/plain": [
       "2.0"
      ]
     },
     "execution_count": 30,
     "metadata": {},
     "output_type": "execute_result"
    }
   ],
   "source": [
    "obj[3]"
   ]
  },
  {
   "cell_type": "markdown",
   "id": "d786777f",
   "metadata": {},
   "source": [
    "### Q.9. Create a function that takes a full name as an argument and returns first name and last name. "
   ]
  },
  {
   "cell_type": "code",
   "execution_count": 31,
   "id": "d737f838",
   "metadata": {},
   "outputs": [],
   "source": [
    "def extract_name(full_name):\n",
    "    name_parts = full_name.split()\n",
    "    first_name = name_parts[0]\n",
    "    last_name = name_parts[-1] if len(name_parts) > 1 else ''\n",
    "    return first_name, last_name"
   ]
  },
  {
   "cell_type": "code",
   "execution_count": 32,
   "id": "d3c12230",
   "metadata": {},
   "outputs": [
    {
     "data": {
      "text/plain": [
       "('John', 'Doe')"
      ]
     },
     "execution_count": 32,
     "metadata": {},
     "output_type": "execute_result"
    }
   ],
   "source": [
    "full_name1 = \"John Doe\"\n",
    "first_name1, last_name1 = extract_name(full_name1)\n",
    "first_name1, last_name1"
   ]
  },
  {
   "cell_type": "code",
   "execution_count": 34,
   "id": "a4737737",
   "metadata": {},
   "outputs": [
    {
     "data": {
      "text/plain": [
       "('Alice', '')"
      ]
     },
     "execution_count": 34,
     "metadata": {},
     "output_type": "execute_result"
    }
   ],
   "source": [
    "full_name2 = \"Alice\"\n",
    "first_name2, last_name2 = extract_name(full_name2)\n",
    "first_name2, last_name2"
   ]
  },
  {
   "cell_type": "code",
   "execution_count": null,
   "id": "3cb8ecc4",
   "metadata": {},
   "outputs": [],
   "source": []
  }
 ],
 "metadata": {
  "kernelspec": {
   "display_name": "Python 3 (ipykernel)",
   "language": "python",
   "name": "python3"
  },
  "language_info": {
   "codemirror_mode": {
    "name": "ipython",
    "version": 3
   },
   "file_extension": ".py",
   "mimetype": "text/x-python",
   "name": "python",
   "nbconvert_exporter": "python",
   "pygments_lexer": "ipython3",
   "version": "3.10.9"
  }
 },
 "nbformat": 4,
 "nbformat_minor": 5
}
