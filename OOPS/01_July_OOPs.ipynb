{
 "cells": [
  {
   "cell_type": "markdown",
   "id": "bd803294",
   "metadata": {},
   "source": [
    "### Q.1. What is the primary goal of Object-Oriented Programming (OOP)? "
   ]
  },
  {
   "cell_type": "code",
   "execution_count": 1,
   "id": "58bdfa7c",
   "metadata": {},
   "outputs": [],
   "source": [
    "# The primary goal of Object-Oriented Programming (OOP) is to design and organize code in a way that promotes modularity,\n",
    "# reusability, and maintainability."
   ]
  },
  {
   "cell_type": "markdown",
   "id": "47215027",
   "metadata": {},
   "source": [
    "### Q.2. What is an object in Python? "
   ]
  },
  {
   "cell_type": "code",
   "execution_count": 2,
   "id": "3b0c7510",
   "metadata": {},
   "outputs": [],
   "source": [
    "# An object is a fundamental concept that represents a piece of data along with the methods or functions that can \n",
    "# operate on that data. "
   ]
  },
  {
   "cell_type": "markdown",
   "id": "1df1aa35",
   "metadata": {},
   "source": [
    "### Q.3. What is a class in Python? "
   ]
  },
  {
   "cell_type": "code",
   "execution_count": 3,
   "id": "f8205142",
   "metadata": {},
   "outputs": [],
   "source": [
    "# In Python, a class is a blueprint for creating objects. "
   ]
  },
  {
   "cell_type": "markdown",
   "id": "31af3539",
   "metadata": {},
   "source": [
    "### Q.4. What are attributes and methods in a class? "
   ]
  },
  {
   "cell_type": "code",
   "execution_count": 4,
   "id": "c2f8dd30",
   "metadata": {},
   "outputs": [],
   "source": [
    "# Attributes are variables that store data within a class or an object.\n",
    "class Car:\n",
    "    def __init__(self, make, model, year):\n",
    "        self.make = make\n",
    "        self.model = model\n",
    "        self.year = year\n",
    "# In this example, make, model, and year are attributes of the 'Car' class."
   ]
  },
  {
   "cell_type": "code",
   "execution_count": 5,
   "id": "fa70185a",
   "metadata": {},
   "outputs": [],
   "source": [
    "# Methods are functions that are defined within a class and operate on the attributes of that class or \n",
    "# perform specific actions related to the object.\n",
    "class Car:\n",
    "    def __init__(self, make, model, year):\n",
    "        self.make = make\n",
    "        self.model = model\n",
    "        self.year = year\n",
    "\n",
    "    def start_engine(self):\n",
    "        print(f\"The {self.year} {self.make} {self.model}'s engine is now running.\")\n",
    "# In this example, start_engine is a method of the 'Car' class."
   ]
  },
  {
   "cell_type": "markdown",
   "id": "b49abd3b",
   "metadata": {},
   "source": [
    "### Q.5. What is the difference between class variables and instance variables in Python? "
   ]
  },
  {
   "cell_type": "code",
   "execution_count": 6,
   "id": "2b2c9ec4",
   "metadata": {},
   "outputs": [],
   "source": [
    "# In Python, class variables and instance variables are two types of variables used within classes, \n",
    "# but they have different scopes and purposes.\n",
    "# Class variables are shared among all instances (objects) of a class. They are defined at the class level \n",
    "# and are the same for every instance of that class.\n",
    "class Dog:\n",
    "    species = \"Canis familiaris\"  # Class variable\n",
    "\n",
    "    def __init__(self, name):\n",
    "        self.name = name  # Instance variable\n",
    "#In this example, species is a class variable that is the same for all instances of the Dog class."
   ]
  },
  {
   "cell_type": "code",
   "execution_count": 7,
   "id": "7839b4e4",
   "metadata": {},
   "outputs": [],
   "source": [
    "# Instance variables are unique to each instance of a class. They are defined inside the class's methods, \n",
    "# typically within the __init__ method.\n",
    "class Dog:\n",
    "    def __init__(self, name):\n",
    "        self.name = name  # Instance variable\n",
    "#In this example, name is an instance variable specific to each instance of the Dog class."
   ]
  },
  {
   "cell_type": "markdown",
   "id": "92f35208",
   "metadata": {},
   "source": [
    "### Q.6. What is the purpose of the self parameter in Python class methods? "
   ]
  },
  {
   "cell_type": "code",
   "execution_count": 8,
   "id": "0d3f8a12",
   "metadata": {},
   "outputs": [],
   "source": [
    "# Python, the self parameter in class methods serves as a reference to the instance of the class. It is a convention \n",
    "# used to represent the instance on which a method is called. While the name self is a convention, any name can be used, \n",
    "# but self is widely adopted and considered good practice."
   ]
  },
  {
   "cell_type": "markdown",
   "id": "081ae847",
   "metadata": {},
   "source": [
    "### Q.7. For a library management system, you have to design the \"Book\" class with OOP principles in mind. The “Book” class will have following attributes:\n",
    "a. title: Represents the title of the book.\n",
    "b. author: Represents the author(s) of the book.\n",
    "c. isbn: Represents the ISBN (International Standard Book Number) of the book.\n",
    "d. publication_year: Represents the year of publication of the book.\n",
    "e. available_copies: Represents the number of copies available for checkout.\n",
    "The class will also include the following methods:\n",
    "a. check_out(self): Decrements the available copies by one if there are copies\n",
    "available for checkout.\n",
    "b. return_book(self): Increments the available copies by one when a book is\n",
    "returned.\n",
    "c. display_book_info(self): Displays the information about the book, including its\n",
    "attributes and the number of available copies. "
   ]
  },
  {
   "cell_type": "code",
   "execution_count": 9,
   "id": "7972e5f3",
   "metadata": {},
   "outputs": [],
   "source": [
    "class Book:\n",
    "    def __init__(self,title,author,isbn,publication_year,available_copies):\n",
    "        self.title = title\n",
    "        self.author = author\n",
    "        self.isbn = isbn\n",
    "        self.publication_year = publication_year\n",
    "        self.available_copies = available_copies\n",
    "        \n",
    "    def check_out(self):\n",
    "        self.available_copies=self.available_copies-1\n",
    "        print(f\"Number of copies available after checkout:{self.available_copies}\")\n",
    "    \n",
    "    def return_book(self):\n",
    "        self.available_copies=self.available_copies+1\n",
    "        print(f\"Number of copies available after return:{self.available_copies}\") \n",
    "              \n",
    "    def display_book_info(self):\n",
    "        print(f\"The title of the book is {self.title} written by {self.author} has an isbn {self.isbn} which was published in the year {self.publication_year} , {self.available_copies} copies are available\")"
   ]
  },
  {
   "cell_type": "code",
   "execution_count": 10,
   "id": "35ed6cdf",
   "metadata": {},
   "outputs": [],
   "source": [
    "bk=Book(\"Python Programming\", \"John Smith\", \"978-1-123456-78-9\", 2020, 5)"
   ]
  },
  {
   "cell_type": "code",
   "execution_count": 11,
   "id": "474ab869",
   "metadata": {},
   "outputs": [
    {
     "name": "stdout",
     "output_type": "stream",
     "text": [
      "Number of copies available after checkout:4\n"
     ]
    }
   ],
   "source": [
    "bk.check_out()"
   ]
  },
  {
   "cell_type": "code",
   "execution_count": 12,
   "id": "8a714315",
   "metadata": {},
   "outputs": [
    {
     "name": "stdout",
     "output_type": "stream",
     "text": [
      "Number of copies available after return:5\n"
     ]
    }
   ],
   "source": [
    "bk.return_book()"
   ]
  },
  {
   "cell_type": "code",
   "execution_count": 13,
   "id": "a9d3ad92",
   "metadata": {},
   "outputs": [
    {
     "name": "stdout",
     "output_type": "stream",
     "text": [
      "The title of the book is Python Programming written by John Smith has an isbn 978-1-123456-78-9 which was published in the year 2020 , 5 copies are available\n"
     ]
    }
   ],
   "source": [
    "bk.display_book_info()"
   ]
  },
  {
   "cell_type": "markdown",
   "id": "f04c4eed",
   "metadata": {},
   "source": [
    "### Q.8. For a ticket booking system, you have to design the \"Ticket\" class with OOP principles in mind. The “Ticket” class should have the following attributes:\n",
    "a. ticket_id: Represents the unique identifier for the ticket.\n",
    "b. event_name: Represents the name of the event.\n",
    "c. event_date: Represents the date of the event.\n",
    "d. venue: Represents the venue of the event.\n",
    "e. seat_number: Represents the seat number associated with the ticket.\n",
    "f. price: Represents the price of the ticket.\n",
    "g. is_reserved: Represents the reservation status of the ticket.\n",
    "The class also includes the following methods:\n",
    "a. reserve_ticket(self): Marks the ticket as reserved if it is not already reserved.\n",
    "b. cancel_reservation(self): Cancels the reservation of the ticket if it is already\n",
    "reserved.\n",
    "c. display_ticket_info(self): Displays the information about the ticket, including its\n",
    "attributes and reservation status. "
   ]
  },
  {
   "cell_type": "code",
   "execution_count": 14,
   "id": "a145fa61",
   "metadata": {},
   "outputs": [],
   "source": [
    "class Ticket:\n",
    "    def __init__(self,ticket_id,event_name,event_date,venue,seat_number,price,is_reserved):\n",
    "        self.ticket_id=ticket_id\n",
    "        self.event_name=event_name\n",
    "        self.event_date=event_date\n",
    "        self.venue=venue\n",
    "        self.seat_number=seat_number\n",
    "        self.price=price\n",
    "        self.is_reserved=is_reserved\n",
    "\n",
    "    def reserve_ticket(self):\n",
    "        if self.is_reserved==\"not reserved\":\n",
    "            self.is_reserved =\"reserved\"\n",
    "            print(\"Reserved\")\n",
    "        else:\n",
    "            print(\"Ticket is already reserved.\")\n",
    "            \n",
    "    def cancel_reservation(self):\n",
    "        if self.is_reserved==\"reserved\":\n",
    "            self.is_reserved =\"not reserved\"\n",
    "            print(\"Reservation canceled.\")\n",
    "        else:\n",
    "            print(\"Ticket is not reserved.\")\n",
    "\n",
    "    def display_ticket_info(self):\n",
    "        print(f\"The ticket id is {self.ticket_id} for {self.event_name} which in on {self.event_date} to {self.venue} with the seat no. {self.seat_number} which costs {self.price} and is {self.is_reserved}\")"
   ]
  },
  {
   "cell_type": "code",
   "execution_count": 15,
   "id": "dc1776b3",
   "metadata": {},
   "outputs": [
    {
     "name": "stdout",
     "output_type": "stream",
     "text": [
      "The ticket id is 1 for Concert which in on 2022-05-15 to Arena A with the seat no. A101 which costs 50.0 and is not reserved\n"
     ]
    }
   ],
   "source": [
    "ticket1 = Ticket(1, \"Concert\", \"2022-05-15\", \"Arena A\", \"A101\", 50.0, \"not reserved\")\n",
    "ticket1.display_ticket_info()"
   ]
  },
  {
   "cell_type": "code",
   "execution_count": 16,
   "id": "deb3a6ad",
   "metadata": {},
   "outputs": [
    {
     "name": "stdout",
     "output_type": "stream",
     "text": [
      "Reserved\n"
     ]
    }
   ],
   "source": [
    "ticket1.reserve_ticket()"
   ]
  },
  {
   "cell_type": "code",
   "execution_count": 17,
   "id": "8d093448",
   "metadata": {},
   "outputs": [
    {
     "name": "stdout",
     "output_type": "stream",
     "text": [
      "The ticket id is 1 for Concert which in on 2022-05-15 to Arena A with the seat no. A101 which costs 50.0 and is reserved\n"
     ]
    }
   ],
   "source": [
    "ticket1.display_ticket_info()"
   ]
  },
  {
   "cell_type": "code",
   "execution_count": 18,
   "id": "fc8ea33c",
   "metadata": {},
   "outputs": [
    {
     "name": "stdout",
     "output_type": "stream",
     "text": [
      "Reservation canceled.\n"
     ]
    }
   ],
   "source": [
    "ticket1.cancel_reservation()"
   ]
  },
  {
   "cell_type": "code",
   "execution_count": 19,
   "id": "888cc5c1",
   "metadata": {},
   "outputs": [
    {
     "name": "stdout",
     "output_type": "stream",
     "text": [
      "The ticket id is 1 for Concert which in on 2022-05-15 to Arena A with the seat no. A101 which costs 50.0 and is not reserved\n"
     ]
    }
   ],
   "source": [
    "ticket1.display_ticket_info()"
   ]
  },
  {
   "cell_type": "markdown",
   "id": "940e32c3",
   "metadata": {},
   "source": [
    "### Q.9. You are creating a shopping cart for an e-commerce website. Using OOP to model the \"ShoppingCart\" functionality the class should contain following attributes and methods:\n",
    "a. items: Represents the list of items in the shopping cart.\n",
    "\n",
    "The class also includes the following methods:\n",
    "a. add_item(self, item): Adds an item to the shopping cart by appending it to the\n",
    "list of items.\n",
    "b. remove_item(self, item): Removes an item from the shopping cart if it exists in\n",
    "the list.\n",
    "c. view_cart(self): Displays the items currently present in the shopping cart.\n",
    "d. clear_cart(self): Clears all items from the shopping cart by reassigning an\n",
    "empty list to the items attribute. "
   ]
  },
  {
   "cell_type": "code",
   "execution_count": 20,
   "id": "6fa12404",
   "metadata": {},
   "outputs": [],
   "source": [
    "class ShoppingCart:\n",
    "    def __init__(self):\n",
    "        self.items=[]\n",
    "        \n",
    "    def add_item(self, item):\n",
    "        self.items.append(item)\n",
    "        print(f\"{self.items}\")\n",
    "           \n",
    "    def remove_item(self, item):\n",
    "        self.items.remove(item)\n",
    "        print(f\"{self.items}\")\n",
    "        \n",
    "    def view_cart(self):\n",
    "        print(f\"{self.items}\")\n",
    "    \n",
    "    def clear_cart(self):\n",
    "        self.items.clear()\n",
    "        print(f\"{self.items}\")"
   ]
  },
  {
   "cell_type": "code",
   "execution_count": 21,
   "id": "9439d794",
   "metadata": {},
   "outputs": [],
   "source": [
    "sc=ShoppingCart()"
   ]
  },
  {
   "cell_type": "code",
   "execution_count": 22,
   "id": "0bdcdd5c",
   "metadata": {},
   "outputs": [
    {
     "name": "stdout",
     "output_type": "stream",
     "text": [
      "['Bag']\n"
     ]
    }
   ],
   "source": [
    "sc.add_item(\"Bag\")"
   ]
  },
  {
   "cell_type": "code",
   "execution_count": 23,
   "id": "716002db",
   "metadata": {},
   "outputs": [
    {
     "name": "stdout",
     "output_type": "stream",
     "text": [
      "['Bag', 'Book']\n"
     ]
    }
   ],
   "source": [
    "sc.add_item(\"Book\")"
   ]
  },
  {
   "cell_type": "code",
   "execution_count": 24,
   "id": "62f69c1b",
   "metadata": {},
   "outputs": [
    {
     "name": "stdout",
     "output_type": "stream",
     "text": [
      "['Bag', 'Book', 'Dress']\n"
     ]
    }
   ],
   "source": [
    "sc.add_item(\"Dress\")"
   ]
  },
  {
   "cell_type": "code",
   "execution_count": 25,
   "id": "ed1fa956",
   "metadata": {},
   "outputs": [
    {
     "name": "stdout",
     "output_type": "stream",
     "text": [
      "['Book', 'Dress']\n"
     ]
    }
   ],
   "source": [
    "sc.remove_item(\"Bag\")"
   ]
  },
  {
   "cell_type": "code",
   "execution_count": 26,
   "id": "977668e8",
   "metadata": {},
   "outputs": [
    {
     "name": "stdout",
     "output_type": "stream",
     "text": [
      "['Book', 'Dress']\n"
     ]
    }
   ],
   "source": [
    "sc.view_cart()"
   ]
  },
  {
   "cell_type": "code",
   "execution_count": 27,
   "id": "41fd0e7a",
   "metadata": {},
   "outputs": [
    {
     "name": "stdout",
     "output_type": "stream",
     "text": [
      "[]\n"
     ]
    }
   ],
   "source": [
    "sc.clear_cart()"
   ]
  },
  {
   "cell_type": "markdown",
   "id": "dde16b91",
   "metadata": {},
   "source": [
    "### Q.10. Imagine a school management system. You have to design the \"Student\" class using OOP concepts.The “Student” class has the following attributes:\n",
    "a. name: Represents the name of the student.\n",
    "b. age: Represents the age of the student.\n",
    "c. grade: Represents the grade or class of the student.\n",
    "d. student_id: Represents the unique identifier for the student.\n",
    "e. attendance: Represents the attendance record of the student.\n",
    "The class should also include the following methods:\n",
    "a. update_attendance(self, date, status): Updates the attendance record of the\n",
    "student for a given date with the provided status (e.g., present or absent).\n",
    "b. get_attendance(self): Returns the attendance record of the student.\n",
    "c. get_average_attendance(self): Calculates and returns the average\n",
    "attendance percentage of the student based on their attendance record. "
   ]
  },
  {
   "cell_type": "code",
   "execution_count": 28,
   "id": "67a5dd4c",
   "metadata": {},
   "outputs": [],
   "source": [
    "class Student:\n",
    "    def __init__(self,name,age,grade,student_id,attendance):\n",
    "        self.name = name\n",
    "        self.age = age\n",
    "        self.grade = grade\n",
    "        self.student_id = student_id\n",
    "        self.attendance = attendance\n",
    "        \n",
    "    def update_attendance(self, date, status):\n",
    "        self.attendance=self.attendance+status\n",
    "        print(f\"{self.name} of {self.grade} whose age is {self.age} with {self.student_id} has {self.attendance} attendence\")\n",
    "        \n",
    "    def get_attendance(self):\n",
    "        pass\n",
    "        \n",
    "    def get_average_attendance(self):\n",
    "        pass\n",
    "        "
   ]
  },
  {
   "cell_type": "code",
   "execution_count": 29,
   "id": "dded9c6e",
   "metadata": {},
   "outputs": [],
   "source": [
    "st=Student(\"John Doe\", 18, \"A\", \"S123456\", 90.5)"
   ]
  },
  {
   "cell_type": "code",
   "execution_count": 30,
   "id": "be18c80e",
   "metadata": {},
   "outputs": [
    {
     "name": "stdout",
     "output_type": "stream",
     "text": [
      "John Doe of A whose age is 18 with S123456 has 91.5 attendence\n"
     ]
    }
   ],
   "source": [
    "st.update_attendance(24/5/22, 1)"
   ]
  },
  {
   "cell_type": "code",
   "execution_count": 31,
   "id": "ccb4a29a",
   "metadata": {},
   "outputs": [],
   "source": [
    "class Student:\n",
    "    def __init__(self, name, age, grade, student_id, attendance):\n",
    "        self.name = name\n",
    "        self.age = age\n",
    "        self.grade = grade\n",
    "        self.student_id = student_id\n",
    "        self.attendance = attendance\n",
    "\n",
    "    def update_attendance(self, date, status):\n",
    "        self.attendance[date] = status\n",
    "        print(f\"Attendance updated for {self.name} on {date}: {status}\")\n",
    "\n",
    "    def get_attendance(self):\n",
    "        return self.attendance\n",
    "\n",
    "    def get_average_attendance(self):\n",
    "        if not self.attendance:\n",
    "            return 0.0\n",
    "\n",
    "        total_days = len(self.attendance)\n",
    "        present_days = sum(status == 'present' for status in self.attendance.values())\n",
    "        average_attendance = (present_days / total_days) * 100\n",
    "        return average_attendance"
   ]
  },
  {
   "cell_type": "code",
   "execution_count": 32,
   "id": "4b3c53af",
   "metadata": {},
   "outputs": [
    {
     "name": "stdout",
     "output_type": "stream",
     "text": [
      "Attendance updated for John Doe on 2022-02-01: present\n",
      "Attendance updated for John Doe on 2022-02-02: absent\n"
     ]
    }
   ],
   "source": [
    "student1 = Student(name=\"John Doe\", age=15, grade=\"10th\", student_id=\"S123456\", attendance={})\n",
    "student1.update_attendance(\"2022-02-01\", \"present\")\n",
    "student1.update_attendance(\"2022-02-02\", \"absent\")"
   ]
  },
  {
   "cell_type": "code",
   "execution_count": 33,
   "id": "54f09607",
   "metadata": {},
   "outputs": [
    {
     "name": "stdout",
     "output_type": "stream",
     "text": [
      "Attendance Record: {'2022-02-01': 'present', '2022-02-02': 'absent'}\n"
     ]
    }
   ],
   "source": [
    "print(\"Attendance Record:\", student1.get_attendance())"
   ]
  },
  {
   "cell_type": "code",
   "execution_count": 34,
   "id": "5b2a1331",
   "metadata": {},
   "outputs": [
    {
     "name": "stdout",
     "output_type": "stream",
     "text": [
      "Average Attendance: 50.0\n"
     ]
    }
   ],
   "source": [
    "print(\"Average Attendance:\", student1.get_average_attendance())"
   ]
  },
  {
   "cell_type": "code",
   "execution_count": null,
   "id": "093e5657",
   "metadata": {},
   "outputs": [],
   "source": []
  }
 ],
 "metadata": {
  "kernelspec": {
   "display_name": "Python 3 (ipykernel)",
   "language": "python",
   "name": "python3"
  },
  "language_info": {
   "codemirror_mode": {
    "name": "ipython",
    "version": 3
   },
   "file_extension": ".py",
   "mimetype": "text/x-python",
   "name": "python",
   "nbconvert_exporter": "python",
   "pygments_lexer": "ipython3",
   "version": "3.10.9"
  }
 },
 "nbformat": 4,
 "nbformat_minor": 5
}
