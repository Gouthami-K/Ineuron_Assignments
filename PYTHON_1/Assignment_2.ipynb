{
 "cells": [
  {
   "cell_type": "markdown",
   "id": "02c0aadf",
   "metadata": {},
   "source": [
    "### 1.What are the two values of the Boolean data type? How do you write them? "
   ]
  },
  {
   "cell_type": "code",
   "execution_count": 1,
   "id": "523b95fb",
   "metadata": {},
   "outputs": [],
   "source": [
    "# The two values of the Boolean data type are true and false.\n",
    "# It is written as 'True' and 'False' "
   ]
  },
  {
   "cell_type": "markdown",
   "id": "5cb81d61",
   "metadata": {},
   "source": [
    "### 2. What are the three different types of Boolean operators?"
   ]
  },
  {
   "cell_type": "code",
   "execution_count": 2,
   "id": "5c6b64b5",
   "metadata": {},
   "outputs": [],
   "source": [
    "# The three different types of Boolean operators are:\n",
    "# 1.AND operator\n",
    "# 2.OR operator\n",
    "# 3.NOT operator"
   ]
  },
  {
   "cell_type": "markdown",
   "id": "0202715b",
   "metadata": {},
   "source": [
    "### 3. Make a list of each Boolean operator&#39;s truth tables (i.e. every possible combination of Boolean values for the operator and what it evaluate )."
   ]
  },
  {
   "cell_type": "code",
   "execution_count": 3,
   "id": "794bd2c3",
   "metadata": {},
   "outputs": [],
   "source": [
    "# AND operator (represented by and):\n",
    "\n",
    "#   Operand 1 and Operand 2 = Result \n",
    "#   --------------------------------\n",
    "#     False   and   False   = False  \n",
    "#     False   and   True    = False  \n",
    "#     True    and   False   = False  \n",
    "#     True    and   True    = True   \n",
    " "
   ]
  },
  {
   "cell_type": "code",
   "execution_count": 4,
   "id": "ad322f96",
   "metadata": {},
   "outputs": [],
   "source": [
    "# OR operator (represented by or):\n",
    "\n",
    "#   Operand 1 or Operand 2 = Result \n",
    "#   -------------------------------\n",
    "#     False   or   False   = False  \n",
    "#     False   or   True    = True   \n",
    "#     True    or   False   = True   \n",
    "#     True    or   True    = True   \n"
   ]
  },
  {
   "cell_type": "code",
   "execution_count": 5,
   "id": "49936c0a",
   "metadata": {},
   "outputs": [],
   "source": [
    "# NOT operator (represented by not):\n",
    " \n",
    "#   Operand = Result \n",
    "#   ----------------\n",
    "#    False  =  True  \n",
    "#    True   =  False  \n"
   ]
  },
  {
   "cell_type": "markdown",
   "id": "9c018d61",
   "metadata": {},
   "source": [
    "### 4. What are the values of the following expressions?"
   ]
  },
  {
   "cell_type": "code",
   "execution_count": 6,
   "id": "9247211c",
   "metadata": {},
   "outputs": [
    {
     "data": {
      "text/plain": [
       "False"
      ]
     },
     "execution_count": 6,
     "metadata": {},
     "output_type": "execute_result"
    }
   ],
   "source": [
    "(5 > 4) and (3 == 5)"
   ]
  },
  {
   "cell_type": "code",
   "execution_count": 7,
   "id": "acb4ca01",
   "metadata": {},
   "outputs": [
    {
     "data": {
      "text/plain": [
       "False"
      ]
     },
     "execution_count": 7,
     "metadata": {},
     "output_type": "execute_result"
    }
   ],
   "source": [
    "not (5 > 4)"
   ]
  },
  {
   "cell_type": "code",
   "execution_count": 8,
   "id": "c8bb82e3",
   "metadata": {},
   "outputs": [
    {
     "data": {
      "text/plain": [
       "True"
      ]
     },
     "execution_count": 8,
     "metadata": {},
     "output_type": "execute_result"
    }
   ],
   "source": [
    "(5 > 4) or (3 == 5)"
   ]
  },
  {
   "cell_type": "code",
   "execution_count": 9,
   "id": "918c10c4",
   "metadata": {},
   "outputs": [
    {
     "data": {
      "text/plain": [
       "False"
      ]
     },
     "execution_count": 9,
     "metadata": {},
     "output_type": "execute_result"
    }
   ],
   "source": [
    "not ((5 > 4) or (3 == 5))"
   ]
  },
  {
   "cell_type": "code",
   "execution_count": 10,
   "id": "9e492089",
   "metadata": {},
   "outputs": [
    {
     "data": {
      "text/plain": [
       "False"
      ]
     },
     "execution_count": 10,
     "metadata": {},
     "output_type": "execute_result"
    }
   ],
   "source": [
    "(True and True) and (True == False)"
   ]
  },
  {
   "cell_type": "code",
   "execution_count": 11,
   "id": "7c36487f",
   "metadata": {},
   "outputs": [
    {
     "data": {
      "text/plain": [
       "True"
      ]
     },
     "execution_count": 11,
     "metadata": {},
     "output_type": "execute_result"
    }
   ],
   "source": [
    "(not False) or (not True)"
   ]
  },
  {
   "cell_type": "markdown",
   "id": "ef2e9c6e",
   "metadata": {},
   "source": [
    "### 5. What are the six comparison operators?"
   ]
  },
  {
   "cell_type": "code",
   "execution_count": 12,
   "id": "e414d2bc",
   "metadata": {},
   "outputs": [],
   "source": [
    "# Comparison operators are used to compare two values:\n",
    "# ==: Equal\n",
    "# !=: Not equal\n",
    "# >: Greater than\n",
    "# <: Less than\n",
    "# >=: Greater than or equal to\n",
    "# <=: Less than or equal to    "
   ]
  },
  {
   "cell_type": "markdown",
   "id": "93a3841d",
   "metadata": {},
   "source": [
    "### 6. How do you tell the difference between the equal to and assignment operators?Describe a condition and when you would use one. "
   ]
  },
  {
   "cell_type": "code",
   "execution_count": 13,
   "id": "6c71530e",
   "metadata": {},
   "outputs": [],
   "source": [
    "#1. Equal To Operator (==): The equal to operator is used for comparison to check if two values are equal. It returns a \n",
    "#   Boolean value (True or False) based on the result of the comparison."
   ]
  },
  {
   "cell_type": "code",
   "execution_count": 14,
   "id": "f6b78460",
   "metadata": {},
   "outputs": [],
   "source": [
    "# Assignment Operator (=): The assignment operator is used to assign a value to a variable. It takes the value on the \n",
    "# right-hand side and assigns it to the variable on the left-hand side."
   ]
  },
  {
   "cell_type": "code",
   "execution_count": 15,
   "id": "9f709af5",
   "metadata": {},
   "outputs": [
    {
     "name": "stdout",
     "output_type": "stream",
     "text": [
      "x and y are not equal\n"
     ]
    }
   ],
   "source": [
    "#Example\n",
    "x = 5 \n",
    "y = 7\n",
    "if x == y:\n",
    "    print(\"x and y are equal\")\n",
    "else:\n",
    "    print(\"x and y are not equal\")"
   ]
  },
  {
   "cell_type": "markdown",
   "id": "f2d62447",
   "metadata": {},
   "source": [
    "### 7. Identify the three blocks in this code:\n"
   ]
  },
  {
   "cell_type": "code",
   "execution_count": 16,
   "id": "cf23c8d3",
   "metadata": {},
   "outputs": [
    {
     "name": "stdout",
     "output_type": "stream",
     "text": [
      "spam\n"
     ]
    }
   ],
   "source": [
    "    spam = 0\n",
    "#1  \n",
    "    if spam == 10:\n",
    "        print('eggs')\n",
    "#2\n",
    "        if spam == 5:\n",
    "            print('bacon')\n",
    "#3\n",
    "        else:\n",
    "            print('ham')\n",
    "        print('spam')\n",
    "    print('spam') "
   ]
  },
  {
   "cell_type": "markdown",
   "id": "71619071",
   "metadata": {},
   "source": [
    "### 8. Write code that prints Hello if 1 is stored in spam, prints Howdy if 2 is stored in spam, and prints Greetings! if anything else is stored in spam."
   ]
  },
  {
   "cell_type": "code",
   "execution_count": 17,
   "id": "dd03454b",
   "metadata": {},
   "outputs": [
    {
     "name": "stdout",
     "output_type": "stream",
     "text": [
      "Hello\n"
     ]
    }
   ],
   "source": [
    "spam=1\n",
    "if spam==1:\n",
    "    print('Hello')\n",
    "elif spam==2:\n",
    "    print('Howdy')\n",
    "else:\n",
    "    print('Greetings!')"
   ]
  },
  {
   "cell_type": "code",
   "execution_count": 18,
   "id": "1e8d8f99",
   "metadata": {},
   "outputs": [
    {
     "name": "stdout",
     "output_type": "stream",
     "text": [
      "Howdy\n"
     ]
    }
   ],
   "source": [
    "spam=2\n",
    "if spam==1:\n",
    "    print('Hello')\n",
    "elif spam==2:\n",
    "    print('Howdy')\n",
    "else:\n",
    "    print('Greetings!')"
   ]
  },
  {
   "cell_type": "code",
   "execution_count": 19,
   "id": "9882c8b5",
   "metadata": {},
   "outputs": [
    {
     "name": "stdout",
     "output_type": "stream",
     "text": [
      "Greetings!\n"
     ]
    }
   ],
   "source": [
    "spam=6\n",
    "if spam==1:\n",
    "    print('Hello')\n",
    "elif spam==2:\n",
    "    print('Howdy')\n",
    "else:\n",
    "    print('Greetings!')"
   ]
  },
  {
   "cell_type": "markdown",
   "id": "5eba6048",
   "metadata": {},
   "source": [
    "### 9.If your programme is stuck in an endless loop, what keys you’ll press?"
   ]
  },
  {
   "cell_type": "code",
   "execution_count": 20,
   "id": "2c9ce746",
   "metadata": {},
   "outputs": [],
   "source": [
    "# 'interrup the kernel' "
   ]
  },
  {
   "cell_type": "markdown",
   "id": "7ebe45b0",
   "metadata": {},
   "source": [
    "### 10. How can you tell the difference between break and continue?"
   ]
  },
  {
   "cell_type": "code",
   "execution_count": 21,
   "id": "1fd27dcd",
   "metadata": {},
   "outputs": [],
   "source": [
    "#1. 'break' statement: When encountered within a loop, the break statement terminates the loop abruptly, regardless of the \n",
    "#    loop's completion condition. It causes the program execution to immediately exit the loop, and control is transferred \n",
    "#    to the next statement after the loop."
   ]
  },
  {
   "cell_type": "code",
   "execution_count": 22,
   "id": "a0b5872c",
   "metadata": {},
   "outputs": [],
   "source": [
    "#1.'continue' statement: When encountered within a loop, the continue statement immediately jumps to the next iteration of \n",
    "#   the loop, skipping any remaining code within the loop for that particular iteration. It allows you to skip certain \n",
    "#   parts of the loop's block based on a condition."
   ]
  },
  {
   "cell_type": "markdown",
   "id": "53accda9",
   "metadata": {},
   "source": [
    "### 11. In a for loop, what is the difference between range(10), range(0, 10), and range(0, 10, 1)?"
   ]
  },
  {
   "cell_type": "code",
   "execution_count": 23,
   "id": "f20a5f61",
   "metadata": {},
   "outputs": [],
   "source": [
    "# There is no difference in output."
   ]
  },
  {
   "cell_type": "code",
   "execution_count": 24,
   "id": "bc9436ec",
   "metadata": {},
   "outputs": [
    {
     "name": "stdout",
     "output_type": "stream",
     "text": [
      "0\n",
      "1\n",
      "2\n",
      "3\n",
      "4\n",
      "5\n",
      "6\n",
      "7\n",
      "8\n",
      "9\n"
     ]
    }
   ],
   "source": [
    "for i in range(10):\n",
    "    print(i)"
   ]
  },
  {
   "cell_type": "code",
   "execution_count": 25,
   "id": "21ea2e2e",
   "metadata": {},
   "outputs": [
    {
     "name": "stdout",
     "output_type": "stream",
     "text": [
      "0\n",
      "1\n",
      "2\n",
      "3\n",
      "4\n",
      "5\n",
      "6\n",
      "7\n",
      "8\n",
      "9\n"
     ]
    }
   ],
   "source": [
    "for i in range(0,10):\n",
    "    print(i)"
   ]
  },
  {
   "cell_type": "code",
   "execution_count": 26,
   "id": "ca774741",
   "metadata": {},
   "outputs": [
    {
     "name": "stdout",
     "output_type": "stream",
     "text": [
      "0\n",
      "1\n",
      "2\n",
      "3\n",
      "4\n",
      "5\n",
      "6\n",
      "7\n",
      "8\n",
      "9\n"
     ]
    }
   ],
   "source": [
    "for i in range(0,10,1):\n",
    "    print(i)"
   ]
  },
  {
   "cell_type": "markdown",
   "id": "c2d398ee",
   "metadata": {},
   "source": [
    "### 12. Write a short program that prints the numbers 1 to 10 using a for loop. Then write an equivalent program that prints the numbers 1 to 10 using a while loop. "
   ]
  },
  {
   "cell_type": "code",
   "execution_count": 27,
   "id": "703373b9",
   "metadata": {},
   "outputs": [
    {
     "name": "stdout",
     "output_type": "stream",
     "text": [
      "1\n",
      "2\n",
      "3\n",
      "4\n",
      "5\n",
      "6\n",
      "7\n",
      "8\n",
      "9\n",
      "10\n"
     ]
    }
   ],
   "source": [
    "for i in range(1,11):\n",
    "    print(i)"
   ]
  },
  {
   "cell_type": "code",
   "execution_count": 28,
   "id": "4b5da532",
   "metadata": {},
   "outputs": [
    {
     "name": "stdout",
     "output_type": "stream",
     "text": [
      "1\n",
      "2\n",
      "3\n",
      "4\n",
      "5\n",
      "6\n",
      "7\n",
      "8\n",
      "9\n",
      "10\n"
     ]
    }
   ],
   "source": [
    "i=0\n",
    "while i<10:\n",
    "    i+=1\n",
    "    print(i)"
   ]
  },
  {
   "cell_type": "markdown",
   "id": "81620d81",
   "metadata": {},
   "source": [
    "### 13. If you had a function named bacon() inside a module named spam, how would you call it after importing spam? "
   ]
  },
  {
   "cell_type": "code",
   "execution_count": 29,
   "id": "30b44a09",
   "metadata": {},
   "outputs": [],
   "source": [
    "# import spam\n",
    "# a=spam.bacon()"
   ]
  },
  {
   "cell_type": "code",
   "execution_count": null,
   "id": "b494c980",
   "metadata": {},
   "outputs": [],
   "source": []
  }
 ],
 "metadata": {
  "kernelspec": {
   "display_name": "Python 3 (ipykernel)",
   "language": "python",
   "name": "python3"
  },
  "language_info": {
   "codemirror_mode": {
    "name": "ipython",
    "version": 3
   },
   "file_extension": ".py",
   "mimetype": "text/x-python",
   "name": "python",
   "nbconvert_exporter": "python",
   "pygments_lexer": "ipython3",
   "version": "3.10.9"
  }
 },
 "nbformat": 4,
 "nbformat_minor": 5
}
