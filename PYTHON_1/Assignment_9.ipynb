{
 "cells": [
  {
   "cell_type": "markdown",
   "id": "88f36e41",
   "metadata": {},
   "source": [
    "### Q.1. What is a lambda function in Python, and how does it differ from a regular function? "
   ]
  },
  {
   "cell_type": "code",
   "execution_count": 1,
   "id": "8d6eb2bc",
   "metadata": {},
   "outputs": [
    {
     "data": {
      "text/plain": [
       "<function __main__.<lambda>(arguments)>"
      ]
     },
     "execution_count": 1,
     "metadata": {},
     "output_type": "execute_result"
    }
   ],
   "source": [
    "# Lambda functions in Python are small, anonymous functions that are defined using the lambda keyword. They are a way to create simple, one-line functions without the need for explicitly defining a function using the def keyword.\n",
    "# The syntax of a lambda function is\n",
    "lambda arguments: expression"
   ]
  },
  {
   "cell_type": "code",
   "execution_count": 2,
   "id": "893cff03",
   "metadata": {},
   "outputs": [],
   "source": [
    "# Lambda functions have the following characteristics:\n",
    "\n",
    "# 1. They can have any number of arguments but must have exactly one expression.\n",
    "# 2. They do not have a name and are typically used where a small function is required for a short period."
   ]
  },
  {
   "cell_type": "code",
   "execution_count": 3,
   "id": "d665383c",
   "metadata": {},
   "outputs": [
    {
     "data": {
      "text/plain": [
       "71"
      ]
     },
     "execution_count": 3,
     "metadata": {},
     "output_type": "execute_result"
    }
   ],
   "source": [
    "# Regular function to add two numbers\n",
    "def add(x, y):\n",
    "    return x + y\n",
    "\n",
    "reg_func=add(5,66)\n",
    "reg_func"
   ]
  },
  {
   "cell_type": "code",
   "execution_count": 4,
   "id": "6228a761",
   "metadata": {},
   "outputs": [
    {
     "data": {
      "text/plain": [
       "152"
      ]
     },
     "execution_count": 4,
     "metadata": {},
     "output_type": "execute_result"
    }
   ],
   "source": [
    "# Equivalent lambda function for adding two numbers\n",
    "add_lambda = lambda x, y: x + y\n",
    "\n",
    "result = add_lambda(6, 146)\n",
    "result"
   ]
  },
  {
   "cell_type": "markdown",
   "id": "b4dc9490",
   "metadata": {},
   "source": [
    "### Q.2. Can a lambda function in Python have multiple arguments? If yes, how can you define and use them? "
   ]
  },
  {
   "cell_type": "code",
   "execution_count": 5,
   "id": "06fdc169",
   "metadata": {},
   "outputs": [],
   "source": [
    "# Yes, a lambda function in Python can have multiple arguments. The syntax for defining a lambda function with multiple arguments is the same as for a single argument, but you separate the arguments with commas.\n",
    "# lambda arg1, arg2, ..., argN: expression"
   ]
  },
  {
   "cell_type": "code",
   "execution_count": 6,
   "id": "37e6e74c",
   "metadata": {},
   "outputs": [
    {
     "data": {
      "text/plain": [
       "658"
      ]
     },
     "execution_count": 6,
     "metadata": {},
     "output_type": "execute_result"
    }
   ],
   "source": [
    "func=lambda a,b,c,d:a*b-c+d\n",
    "output=func(10,63,8,36)\n",
    "output"
   ]
  },
  {
   "cell_type": "markdown",
   "id": "2399c9a7",
   "metadata": {},
   "source": [
    "### Q.3. How are lambda functions typically used in Python? Provide an example use case. "
   ]
  },
  {
   "cell_type": "code",
   "execution_count": 7,
   "id": "3de3cbc4",
   "metadata": {},
   "outputs": [
    {
     "ename": "SyntaxError",
     "evalue": "invalid syntax (696073939.py, line 1)",
     "output_type": "error",
     "traceback": [
      "\u001b[1;36m  Cell \u001b[1;32mIn[7], line 1\u001b[1;36m\u001b[0m\n\u001b[1;33m    Lambda functions are typically used in Python for situations where a small, anonymous function is required, especially\u001b[0m\n\u001b[1;37m           ^\u001b[0m\n\u001b[1;31mSyntaxError\u001b[0m\u001b[1;31m:\u001b[0m invalid syntax\n"
     ]
    }
   ],
   "source": [
    "Lambda functions are typically used in Python for situations where a small, anonymous function is required, especially \n",
    "when passing functions as arguments or using them in situations where a full function definition is not necessary."
   ]
  },
  {
   "cell_type": "code",
   "execution_count": 8,
   "id": "110884f7",
   "metadata": {},
   "outputs": [
    {
     "name": "stdout",
     "output_type": "stream",
     "text": [
      "['Bob', 'Dave', 'Alice', 'Charlie']\n",
      "[2, 4, 6]\n",
      "[1, 4, 9, 16, 25]\n"
     ]
    }
   ],
   "source": [
    "#1.Sorting:\n",
    "#Lambda functions are commonly used as the key argument in sorting operations.\n",
    "names = [\"Alice\", \"Bob\", \"Charlie\", \"Dave\"]\n",
    "sorted_names = sorted(names, key=lambda x: len(x))\n",
    "print(sorted_names)  # Output: ['Bob', 'Dave', 'Alice', 'Charlie']\n",
    "\n",
    "\n",
    "#2.Filtering:\n",
    "#Lambda functions can be used with filtering functions like filter() to conditionally include or exclude elements from a sequence. \n",
    "numbers = [1, 2, 3, 4, 5, 6]\n",
    "even_numbers = list(filter(lambda x: x % 2 == 0, numbers))\n",
    "print(even_numbers)  # Output: [2, 4, 6]\n",
    "\n",
    "\n",
    "#3.Mapping:\n",
    "#Lambda functions can be used with mapping functions like map() to transform elements of a sequence. \n",
    "numbers = [1, 2, 3, 4, 5]\n",
    "squared_numbers = list(map(lambda x: x ** 2, numbers))\n",
    "print(squared_numbers)  # Output: [1, 4, 9, 16, 25]"
   ]
  },
  {
   "cell_type": "markdown",
   "id": "5bf37e1c",
   "metadata": {},
   "source": [
    "### Q.4. What are the advantages and limitations of lambda functions compared to regular functions in Python? "
   ]
  },
  {
   "cell_type": "code",
   "execution_count": 9,
   "id": "bd0cfb6d",
   "metadata": {},
   "outputs": [],
   "source": [
    "# Advantages of Lambda Functions:\n",
    "\n",
    "# 1.Concise and Readable Code: Lambda functions allow you to write compact and concise code, especially for small, \n",
    "# one-time-use functions. They can make code more readable by reducing the need for explicit function definitions.\n",
    "\n",
    "# 2.Anonymous Functions: Lambda functions are anonymous functions, meaning they don't require a formal name. \n",
    "# This can be advantageous when you have a function that is only used in a specific context or as an argument to\n",
    "# another function.\n",
    "\n",
    "# 3.Flexibility: Lambda functions can be used as arguments to other functions, allowing you to write more expressive and \n",
    "# flexible code. They are often used with higher-order functions like map(), filter(), and sorted().\n",
    "\n",
    "# Limitations of Lambda Functions:\n",
    "\n",
    "# 1.Limited Functionality: Lambda functions are restricted to a single expression and cannot contain multiple statements\n",
    "# or complex logic. They are best suited for simple and concise operations.\n",
    "\n",
    "# 2.No Docstrings or Annotations: Lambda functions do not support docstrings or annotations. Docstrings are used to \n",
    "# document the purpose and usage of a function, while annotations provide additional type information.\n",
    "\n",
    "# 3.Reduced Reusability: Lambda functions are not easily reusable across different parts of a program. They are typically \n",
    "# created and used within a specific context or as part of a single expression."
   ]
  },
  {
   "cell_type": "markdown",
   "id": "18c1d16a",
   "metadata": {},
   "source": [
    "### Q.5. Are lambda functions in Python able to access variables defined outside of their own scope? Explain with an example. "
   ]
  },
  {
   "cell_type": "code",
   "execution_count": 10,
   "id": "eddc422d",
   "metadata": {},
   "outputs": [],
   "source": [
    "# Yes, lambda functions in Python can access variables defined outside of their own scope."
   ]
  },
  {
   "cell_type": "code",
   "execution_count": 11,
   "id": "b187300a",
   "metadata": {},
   "outputs": [
    {
     "name": "stdout",
     "output_type": "stream",
     "text": [
      "15\n"
     ]
    }
   ],
   "source": [
    "def outer_function():\n",
    "    x = 10\n",
    "    return lambda y: x + y\n",
    "\n",
    "closure_lambda = outer_function()\n",
    "result = closure_lambda(5)\n",
    "print(result) "
   ]
  },
  {
   "cell_type": "markdown",
   "id": "cc5fee0c",
   "metadata": {},
   "source": [
    "### Q.6. Write a lambda function to calculate the square of a given number. "
   ]
  },
  {
   "cell_type": "code",
   "execution_count": 12,
   "id": "f96bb4dc",
   "metadata": {},
   "outputs": [
    {
     "data": {
      "text/plain": [
       "25"
      ]
     },
     "execution_count": 12,
     "metadata": {},
     "output_type": "execute_result"
    }
   ],
   "source": [
    "square=lambda x:x**2\n",
    "square(5)"
   ]
  },
  {
   "cell_type": "markdown",
   "id": "9759edb0",
   "metadata": {},
   "source": [
    "### Q.7. Create a lambda function to find the maximum value in a list of integers. "
   ]
  },
  {
   "cell_type": "code",
   "execution_count": 13,
   "id": "63fc4df9",
   "metadata": {},
   "outputs": [
    {
     "data": {
      "text/plain": [
       "100"
      ]
     },
     "execution_count": 13,
     "metadata": {},
     "output_type": "execute_result"
    }
   ],
   "source": [
    "a=[5,7,2,6,8,100]\n",
    "max_value=lambda a:max(a)\n",
    "max_value(a)"
   ]
  },
  {
   "cell_type": "markdown",
   "id": "00396e6d",
   "metadata": {},
   "source": [
    "### Q.8. Implement a lambda function to filter out all the even numbers from a list of integers. "
   ]
  },
  {
   "cell_type": "code",
   "execution_count": 14,
   "id": "ff9c6d8d",
   "metadata": {},
   "outputs": [
    {
     "data": {
      "text/plain": [
       "[4, 8, 60, 12, 30, 22, 36]"
      ]
     },
     "execution_count": 14,
     "metadata": {},
     "output_type": "execute_result"
    }
   ],
   "source": [
    "even_values=lambda i:list(filter(lambda x:x % 2==0,i))\n",
    "b=[4,9,8,60,12,30,7,5,22,15,36]\n",
    "even_values(b)"
   ]
  },
  {
   "cell_type": "markdown",
   "id": "573cf9b6",
   "metadata": {},
   "source": [
    "### Q.9. Write a lambda function to sort a list of strings in ascending order based on the length of each string. "
   ]
  },
  {
   "cell_type": "code",
   "execution_count": 15,
   "id": "95073b1d",
   "metadata": {},
   "outputs": [
    {
     "name": "stdout",
     "output_type": "stream",
     "text": [
      "['kiwi', 'apple', 'grape', 'banana', 'orange']\n"
     ]
    }
   ],
   "source": [
    "strings = [\"apple\", \"banana\", \"orange\", \"kiwi\", \"grape\"]\n",
    "sorted_strings = sorted(strings, key=lambda x: len(x))\n",
    "print(sorted_strings)"
   ]
  },
  {
   "cell_type": "markdown",
   "id": "726db6ac",
   "metadata": {},
   "source": [
    "### Q.10. Create a lambda function that takes two lists as input and returns a new list containing the common elements between the two lists. "
   ]
  },
  {
   "cell_type": "code",
   "execution_count": 16,
   "id": "f3e31791",
   "metadata": {},
   "outputs": [],
   "source": [
    "common_elements = lambda list1, list2: list(set(list1) & set(list2))"
   ]
  },
  {
   "cell_type": "code",
   "execution_count": 17,
   "id": "b244cca8",
   "metadata": {},
   "outputs": [
    {
     "name": "stdout",
     "output_type": "stream",
     "text": [
      "[3, 4, 5]\n"
     ]
    }
   ],
   "source": [
    "list1 = [1, 2, 3, 4, 5]\n",
    "list2 = [3, 4, 5, 6, 7]\n",
    "elements =common_elements(list1, list2)\n",
    "print(elements)"
   ]
  },
  {
   "cell_type": "markdown",
   "id": "e809ddcb",
   "metadata": {},
   "source": [
    "### Q.11. Write a recursive function to calculate the factorial of a given positive integer. "
   ]
  },
  {
   "cell_type": "code",
   "execution_count": 18,
   "id": "29fe9349",
   "metadata": {},
   "outputs": [],
   "source": [
    "def factorial(n):\n",
    "    if n == 0 or n == 1:\n",
    "        return 1\n",
    "    else:\n",
    "        return n * factorial(n - 1)"
   ]
  },
  {
   "cell_type": "code",
   "execution_count": 19,
   "id": "c632b31b",
   "metadata": {},
   "outputs": [
    {
     "name": "stdout",
     "output_type": "stream",
     "text": [
      "720\n"
     ]
    }
   ],
   "source": [
    "number = 6\n",
    "result = factorial(number)\n",
    "print(result)"
   ]
  },
  {
   "cell_type": "markdown",
   "id": "63b88f56",
   "metadata": {},
   "source": [
    "### Q.12. Implement a recursive function to compute the nth Fibonacci number. "
   ]
  },
  {
   "cell_type": "code",
   "execution_count": 20,
   "id": "8f23f2f9",
   "metadata": {},
   "outputs": [],
   "source": [
    "def fibonacci(n):\n",
    "    if n <= 0:\n",
    "        raise ValueError(\"n must be a positive integer\")\n",
    "    elif n == 1:\n",
    "        return 0\n",
    "    elif n == 2:\n",
    "        return 1\n",
    "    else:\n",
    "        return fibonacci(n - 1) + fibonacci(n - 2)"
   ]
  },
  {
   "cell_type": "code",
   "execution_count": 21,
   "id": "bc560a0d",
   "metadata": {},
   "outputs": [
    {
     "name": "stdout",
     "output_type": "stream",
     "text": [
      "34\n"
     ]
    }
   ],
   "source": [
    "number = 10\n",
    "result = fibonacci(number)\n",
    "print(result) "
   ]
  },
  {
   "cell_type": "markdown",
   "id": "fee27122",
   "metadata": {},
   "source": [
    "### Q.13. Create a recursive function to find the sum of all the elements in a given list. "
   ]
  },
  {
   "cell_type": "code",
   "execution_count": 22,
   "id": "e46894aa",
   "metadata": {},
   "outputs": [],
   "source": [
    "def recursive_sum(lst):\n",
    "    if not lst:\n",
    "        return 0\n",
    "    else:\n",
    "        return lst[0] + recursive_sum(lst[1:])\n"
   ]
  },
  {
   "cell_type": "code",
   "execution_count": 23,
   "id": "7479416f",
   "metadata": {},
   "outputs": [
    {
     "name": "stdout",
     "output_type": "stream",
     "text": [
      "15\n"
     ]
    }
   ],
   "source": [
    "numbers = [1, 2, 3, 4, 5]\n",
    "result = recursive_sum(numbers)\n",
    "print(result)"
   ]
  },
  {
   "cell_type": "markdown",
   "id": "eda8380a",
   "metadata": {},
   "source": [
    "### Q.14. Write a recursive function to determine whether a given string is a palindrome. "
   ]
  },
  {
   "cell_type": "code",
   "execution_count": 24,
   "id": "5b53e863",
   "metadata": {},
   "outputs": [],
   "source": [
    "def is_palindrome(s):\n",
    "    if len(s) <= 1:\n",
    "        return True\n",
    "    elif s[0] != s[-1]:\n",
    "        return False\n",
    "    else:\n",
    "        return is_palindrome(s[1:-1])"
   ]
  },
  {
   "cell_type": "code",
   "execution_count": 25,
   "id": "56032b61",
   "metadata": {},
   "outputs": [
    {
     "name": "stdout",
     "output_type": "stream",
     "text": [
      "True\n",
      "False\n"
     ]
    }
   ],
   "source": [
    "string1 = \"racecar\"\n",
    "string2 = \"hello\"\n",
    "print(is_palindrome(string1))  \n",
    "print(is_palindrome(string2))\n"
   ]
  },
  {
   "cell_type": "markdown",
   "id": "718245db",
   "metadata": {},
   "source": [
    "### Q.15. Implement a recursive function to find the greatest common divisor (GCD) of two positive integers. "
   ]
  },
  {
   "cell_type": "code",
   "execution_count": 26,
   "id": "9695503b",
   "metadata": {},
   "outputs": [],
   "source": [
    "def gcd(a, b):\n",
    "    if b == 0:\n",
    "        return a\n",
    "    else:\n",
    "        return gcd(b, a % b)"
   ]
  },
  {
   "cell_type": "code",
   "execution_count": 27,
   "id": "fae52b91",
   "metadata": {},
   "outputs": [
    {
     "name": "stdout",
     "output_type": "stream",
     "text": [
      "6\n"
     ]
    }
   ],
   "source": [
    "num1 = 48\n",
    "num2 = 18\n",
    "result = gcd(num1, num2)\n",
    "print(result) "
   ]
  },
  {
   "cell_type": "code",
   "execution_count": null,
   "id": "4ed3e3b0",
   "metadata": {},
   "outputs": [],
   "source": []
  },
  {
   "cell_type": "code",
   "execution_count": null,
   "id": "18271eee",
   "metadata": {},
   "outputs": [],
   "source": []
  }
 ],
 "metadata": {
  "kernelspec": {
   "display_name": "Python 3 (ipykernel)",
   "language": "python",
   "name": "python3"
  },
  "language_info": {
   "codemirror_mode": {
    "name": "ipython",
    "version": 3
   },
   "file_extension": ".py",
   "mimetype": "text/x-python",
   "name": "python",
   "nbconvert_exporter": "python",
   "pygments_lexer": "ipython3",
   "version": "3.10.9"
  }
 },
 "nbformat": 4,
 "nbformat_minor": 5
}
