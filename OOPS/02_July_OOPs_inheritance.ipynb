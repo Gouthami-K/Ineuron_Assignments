{
 "cells": [
  {
   "cell_type": "markdown",
   "id": "5959ab57",
   "metadata": {},
   "source": [
    "### Q.1. Explain what inheritance is in object-oriented programming and why it is used. "
   ]
  },
  {
   "cell_type": "code",
   "execution_count": 1,
   "id": "83150aa4",
   "metadata": {},
   "outputs": [],
   "source": [
    "# Inheritance is a fundamental concept in object-oriented programming (OOP) that allows a new class (subclass or derived \n",
    "# class) to inherit attributes and behaviors from an existing class (base class or superclass). The existing class serves \n",
    "# as a blueprint, and the new class can reuse, extend, or override its features."
   ]
  },
  {
   "cell_type": "markdown",
   "id": "5c76211f",
   "metadata": {},
   "source": [
    "### Q.2. Discuss the concept of single inheritance and multiple inheritance, highlighting their differences and advantages. "
   ]
  },
  {
   "cell_type": "code",
   "execution_count": 2,
   "id": "d3a4c37d",
   "metadata": {},
   "outputs": [],
   "source": [
    "# Single Inheritance:\n",
    "\n",
    "#Definition: Single inheritance is a type of inheritance in object-oriented programming where a class can inherit from \n",
    "# only one base class or superclass.\n",
    "#Example:\n",
    "class Animal:\n",
    "    def speak(self):\n",
    "        print(\"Animal speaks\")\n",
    "\n",
    "class Dog(Animal):\n",
    "    def bark(self):\n",
    "        print(\"Dog barks\")\n",
    "\n",
    "#Advantages:\n",
    "\n",
    "# Simplicity: Single inheritance is straightforward and easier to understand as there is a linear relationship between classes.\n",
    "# Code Reusability: Code is reused from a single base class, promoting a more modular design."
   ]
  },
  {
   "cell_type": "code",
   "execution_count": 3,
   "id": "cc5461b1",
   "metadata": {},
   "outputs": [],
   "source": [
    "# Multiple Inheritance:\n",
    "\n",
    "# Definition: Multiple inheritance is a type of inheritance in which a class can inherit from more than one base class \n",
    "# or superclass.\n",
    "\n",
    "# Example:\n",
    "class Animal:\n",
    "    def speak(self):\n",
    "        print(\"Animal speaks\")\n",
    "\n",
    "class Pet:\n",
    "    def play(self):\n",
    "        print(\"Pet plays\")\n",
    "\n",
    "class Dog(Animal, Pet):\n",
    "    def bark(self):\n",
    "        print(\"Dog barks\")\n",
    "\n",
    "# Advantages:\n",
    "\n",
    "# Enhanced Flexibility: Multiple inheritance allows a class to inherit features from multiple sources, providing more \n",
    "# flexibility in designing complex relationships.\n",
    "# Code Reusability: Code can be reused from multiple base classes, leading to a more modular and reusable design."
   ]
  },
  {
   "cell_type": "markdown",
   "id": "6d6a2c30",
   "metadata": {},
   "source": [
    "### Q.3. Explain the terms \"base class\" and \"derived class\" in the context of inheritance. "
   ]
  },
  {
   "cell_type": "code",
   "execution_count": 4,
   "id": "10b3b386",
   "metadata": {},
   "outputs": [],
   "source": [
    "# In the context of inheritance in object-oriented programming, the terms \"base class\" and \"derived class\" refer to \n",
    "# the classes involved in the inheritance relationship:\n",
    "\n",
    "# Base Class:\n",
    "\n",
    "# Definition: The base class, also known as the superclass or parent class, is the class whose attributes and methods \n",
    "# are inherited by another class.\n",
    "# Role: It serves as the foundation or blueprint for one or more derived classes. It defines common features shared by \n",
    "# multiple classes.\n",
    "# Example:\n",
    "class Animal:\n",
    "    def speak(self):\n",
    "        print(\"Animal speaks\")"
   ]
  },
  {
   "cell_type": "code",
   "execution_count": 5,
   "id": "d7319a0a",
   "metadata": {},
   "outputs": [],
   "source": [
    "#Derived Class:\n",
    "\n",
    "# Definition: The derived class, also known as the subclass or child class, is the class that inherits attributes and \n",
    "# methods from another class (the base class).\n",
    "# Role: It extends or specializes the functionality of the base class. The derived class can have additional attributes \n",
    "# and methods or override existing ones.\n",
    "# Example:\n",
    "class Dog(Animal):\n",
    "    def bark(self):\n",
    "        print(\"Dog barks\")\n"
   ]
  },
  {
   "cell_type": "markdown",
   "id": "2a027006",
   "metadata": {},
   "source": [
    "### Q.4. What is the significance of the \"protected\" access modifier in inheritance? How does it differ from \"private\" and \"public\" modifiers? "
   ]
  },
  {
   "cell_type": "code",
   "execution_count": 6,
   "id": "32443803",
   "metadata": {},
   "outputs": [],
   "source": [
    "# In object-oriented programming, access modifiers define the visibility and accessibility of class members (attributes\n",
    "# and methods) within and outside the class. Python uses underscores to denote the visibility of attributes and methods. \n",
    "# There are three main access modifiers: \"private,\" \"protected,\" and \"public.\"\n",
    "\n",
    "#Public Access Modifier:\n",
    "\n",
    "#Syntax: No underscore is used. Members are accessible from anywhere.\n",
    "#Example:\n",
    "class MyClass:\n",
    "    def public_method(self):\n",
    "        print(\"Public method\")\n"
   ]
  },
  {
   "cell_type": "code",
   "execution_count": 7,
   "id": "1a23be13",
   "metadata": {},
   "outputs": [],
   "source": [
    "# Protected Access Modifier:\n",
    "\n",
    "# Syntax: A single leading underscore (_) is used. Members are protected and should not be accessed from outside the class, \n",
    "# but they can be accessed by derived classes (subclasses).\n",
    "# Example:\n",
    "class MyClass:\n",
    "    def _protected_method(self):\n",
    "        print(\"Protected method\")"
   ]
  },
  {
   "cell_type": "code",
   "execution_count": 8,
   "id": "94322d74",
   "metadata": {},
   "outputs": [],
   "source": [
    "# Private Access Modifier:\n",
    "\n",
    "# Syntax: A double leading underscore (__) is used. Members are considered private and are not accessible from outside the \n",
    "# class, including derived classes.\n",
    "# Example:\n",
    "class MyClass:\n",
    "    def __private_method(self):\n",
    "        print(\"Private method\")\n"
   ]
  },
  {
   "cell_type": "code",
   "execution_count": 9,
   "id": "00279973",
   "metadata": {},
   "outputs": [],
   "source": [
    "# Significance of Protected Access Modifier in Inheritance:\n",
    "\n",
    "# Visibility for Derived Classes: Protected members can be accessed by classes derived from the base class. This allows \n",
    "# derived classes to reuse or extend the functionality of the base class without exposing these members to external code.\n",
    "\n",
    "# Differences:\n",
    "\n",
    "# Public vs. Protected:\n",
    "\n",
    "# Public members are accessible from anywhere, including external code.\n",
    "# Protected members are not intended for external use but can be accessed by derived classes.\n",
    "\n",
    "# Protected vs. Private:\n",
    "\n",
    "# Protected members are accessible to derived classes, promoting a level of visibility for inheritance scenarios.\n",
    "# Private members are not accessible outside the class, including derived classes, ensuring encapsulation."
   ]
  },
  {
   "cell_type": "code",
   "execution_count": 10,
   "id": "597369df",
   "metadata": {},
   "outputs": [],
   "source": [
    "class BaseClass:\n",
    "    def __init__(self):\n",
    "        self.public_attr = \"Public Attribute\"\n",
    "        self._protected_attr = \"Protected Attribute\"\n",
    "        self.__private_attr = \"Private Attribute\"\n",
    "\n",
    "class DerivedClass(BaseClass):\n",
    "    def access_base_attributes(self):\n",
    "        print(self.public_attr)       # Accessible (public)\n",
    "        print(self._protected_attr)   # Accessible (protected)\n",
    "        # print(self.__private_attr)  # Error: AttributeError (private)\n"
   ]
  },
  {
   "cell_type": "code",
   "execution_count": 11,
   "id": "83d53744",
   "metadata": {},
   "outputs": [
    {
     "name": "stdout",
     "output_type": "stream",
     "text": [
      "Public Attribute\n",
      "Protected Attribute\n",
      "Public Attribute\n",
      "Protected Attribute\n"
     ]
    }
   ],
   "source": [
    "base_instance = BaseClass()\n",
    "print(base_instance.public_attr)       # Accessible (public)\n",
    "print(base_instance._protected_attr)   # Accessible (protected)\n",
    "# print(base_instance.__private_attr)  # Error: AttributeError (private)\n",
    "\n",
    "derived_instance = DerivedClass()\n",
    "derived_instance.access_base_attributes()\n"
   ]
  },
  {
   "cell_type": "markdown",
   "id": "70ccb982",
   "metadata": {},
   "source": [
    "### Q.5. What is the purpose of the \"super\" keyword in inheritance? Provide an example. "
   ]
  },
  {
   "cell_type": "code",
   "execution_count": 12,
   "id": "b0d3ced0",
   "metadata": {},
   "outputs": [],
   "source": [
    "# The super keyword in Python is used in the context of inheritance to refer to the superclass or parent class. "
   ]
  },
  {
   "cell_type": "code",
   "execution_count": 13,
   "id": "cd177adc",
   "metadata": {},
   "outputs": [],
   "source": [
    "class Animal:\n",
    "    def __init__(self, name):\n",
    "        self.name = name\n",
    "\n",
    "    def make_sound(self):\n",
    "        print(\"Generic animal sound\")\n",
    "\n",
    "class Dog(Animal):\n",
    "    def __init__(self, name, breed):\n",
    "        super().__init__(name)\n",
    "        self.breed = breed\n",
    "\n",
    "    def make_sound(self):\n",
    "        super().make_sound()  # Call the make_sound method from the superclass\n",
    "        print(\"Dog barks\")\n",
    "\n",
    "    def display_info(self):\n",
    "        print(f\"Name: {self.name}, Breed: {self.breed}\")"
   ]
  },
  {
   "cell_type": "code",
   "execution_count": 14,
   "id": "66a38425",
   "metadata": {},
   "outputs": [
    {
     "name": "stdout",
     "output_type": "stream",
     "text": [
      "Generic animal sound\n",
      "Dog barks\n",
      "Name: Buddy, Breed: Labrador\n"
     ]
    }
   ],
   "source": [
    "my_dog = Dog(name=\"Buddy\", breed=\"Labrador\")\n",
    "my_dog.make_sound()       \n",
    "my_dog.display_info() "
   ]
  },
  {
   "cell_type": "markdown",
   "id": "841edaaf",
   "metadata": {},
   "source": [
    "### Q.6. Create a base class called \"Vehicle\" with attributes like \"make\", \"model\", and \"year\". Then, create a derived class called \"Car\" that inherits from \"Vehicle\" and adds an attribute called \"fuel_type\". Implement appropriate methods in both classes. "
   ]
  },
  {
   "cell_type": "code",
   "execution_count": 15,
   "id": "337bf91d",
   "metadata": {},
   "outputs": [],
   "source": [
    "class Vehicle:\n",
    "    def __init__(self,make,model,year):\n",
    "        self.make=make\n",
    "        self.model=model\n",
    "        self.year=year\n",
    "    \n",
    "    def display_info(self):\n",
    "        print(f\"Vehicle Info: {self.year} {self.make} {self.model}\")"
   ]
  },
  {
   "cell_type": "code",
   "execution_count": 16,
   "id": "44da3f85",
   "metadata": {},
   "outputs": [],
   "source": [
    "class Car(Vehicle):\n",
    "    def __init__(self, make, model, year, fuel_type):\n",
    "        super().__init__(make,model,year)\n",
    "        self.fuel_type=fuel_type\n",
    "    \n",
    "    def display_info(self):\n",
    "        super().display_info()\n",
    "        print(f\"Fuel Type: {self.fuel_type}\")"
   ]
  },
  {
   "cell_type": "code",
   "execution_count": 17,
   "id": "9cbabe99",
   "metadata": {},
   "outputs": [
    {
     "name": "stdout",
     "output_type": "stream",
     "text": [
      "Vehicle Info: 2022 Toyota Camry\n"
     ]
    }
   ],
   "source": [
    "vehicle1 = Vehicle(make=\"Toyota\", model=\"Camry\", year=2022)\n",
    "vehicle1.display_info()"
   ]
  },
  {
   "cell_type": "code",
   "execution_count": 18,
   "id": "0a0a9b82",
   "metadata": {},
   "outputs": [
    {
     "name": "stdout",
     "output_type": "stream",
     "text": [
      "Vehicle Info: 2023 Tesla Model 3\n",
      "Fuel Type: Electric\n"
     ]
    }
   ],
   "source": [
    "car1 = Car(make=\"Tesla\", model=\"Model 3\", year=2023, fuel_type=\"Electric\")\n",
    "car1.display_info()"
   ]
  },
  {
   "cell_type": "markdown",
   "id": "4d07c5be",
   "metadata": {},
   "source": [
    "### Q.7. Create a base class called \"Employee\" with attributes like \"name\" and \"salary.\" Derive two classes, \"Manager\" and \"Developer,\" from \"Employee.\" Add an additional attribute called \"department\" for the \"Manager\" class and \"programming_language\" for the \"Developer\" class."
   ]
  },
  {
   "cell_type": "code",
   "execution_count": 19,
   "id": "b3b64968",
   "metadata": {},
   "outputs": [],
   "source": [
    "class Employee:\n",
    "    def __init__(self,name,salary):\n",
    "        self.name = name\n",
    "        self.salary = salary\n",
    "        \n",
    "    def display_info(self):\n",
    "        print(f\"{self.name} {self.salary}\")"
   ]
  },
  {
   "cell_type": "code",
   "execution_count": 20,
   "id": "713d5df3",
   "metadata": {},
   "outputs": [],
   "source": [
    "class Manager(Employee):\n",
    "    def __init__(self,name,salary,department):\n",
    "        super().__init__(name,salary)\n",
    "        self.department = department\n",
    "        \n",
    "    def display_info(self):\n",
    "        super().display_info()\n",
    "        print(f\"{self.department}\")"
   ]
  },
  {
   "cell_type": "code",
   "execution_count": 21,
   "id": "7cc8c409",
   "metadata": {},
   "outputs": [],
   "source": [
    "class Developer(Employee):\n",
    "    def __init__(self,name,salary,programming_language):\n",
    "        super().__init__(name,salary)\n",
    "        self.programming_language = programming_language\n",
    "        \n",
    "    def display_info(self):\n",
    "        super().display_info()\n",
    "        print(f\"{self.programming_language}\")"
   ]
  },
  {
   "cell_type": "code",
   "execution_count": 22,
   "id": "3f10fe51",
   "metadata": {},
   "outputs": [],
   "source": [
    "emp=Employee(\"Gouthami\",50000)"
   ]
  },
  {
   "cell_type": "code",
   "execution_count": 23,
   "id": "fa17dfaa",
   "metadata": {},
   "outputs": [
    {
     "name": "stdout",
     "output_type": "stream",
     "text": [
      "Gouthami 50000\n"
     ]
    }
   ],
   "source": [
    "emp.display_info()"
   ]
  },
  {
   "cell_type": "code",
   "execution_count": 24,
   "id": "a8bdb8d1",
   "metadata": {},
   "outputs": [],
   "source": [
    "man=Manager(\"Ashly\",600000,\"data analytics\")"
   ]
  },
  {
   "cell_type": "code",
   "execution_count": 25,
   "id": "393b3bf6",
   "metadata": {},
   "outputs": [
    {
     "name": "stdout",
     "output_type": "stream",
     "text": [
      "Ashly 600000\n",
      "data analytics\n"
     ]
    }
   ],
   "source": [
    "man.display_info()"
   ]
  },
  {
   "cell_type": "code",
   "execution_count": 26,
   "id": "783f4daf",
   "metadata": {},
   "outputs": [],
   "source": [
    "dev=Developer(\"Kim\",89000,\"Python\")"
   ]
  },
  {
   "cell_type": "code",
   "execution_count": 27,
   "id": "af3cbee5",
   "metadata": {},
   "outputs": [
    {
     "name": "stdout",
     "output_type": "stream",
     "text": [
      "Kim 89000\n",
      "Python\n"
     ]
    }
   ],
   "source": [
    "dev.display_info()"
   ]
  },
  {
   "cell_type": "markdown",
   "id": "270994ea",
   "metadata": {},
   "source": [
    "### Q.8. Design a base class called \"Shape\" with attributes like \"colour\" and \"border_width.\" Create derived classes, \"Rectangle\" and \"Circle,\" that inherit from \"Shape\" and add specific attributes like \"length\" and \"width\" for the \"Rectangle\" class and \"radius\" for the \"Circle\" class. "
   ]
  },
  {
   "cell_type": "code",
   "execution_count": 28,
   "id": "82449173",
   "metadata": {},
   "outputs": [],
   "source": [
    "class Shape:\n",
    "    def __init__(self,colour,border_width):\n",
    "        self.colour=colour\n",
    "        self.border_width=border_width\n",
    "    \n",
    "    def display_info(self):\n",
    "        print(f\"{self.colour} {self.border_width}\")"
   ]
  },
  {
   "cell_type": "code",
   "execution_count": 29,
   "id": "5769b77f",
   "metadata": {},
   "outputs": [],
   "source": [
    "class Rectangle(Shape):\n",
    "    def __init__(self,colour,border_width,length,width):\n",
    "        super().__init__(colour,border_width)\n",
    "        self.length = length\n",
    "        self.width = width\n",
    "        \n",
    "    def display_info(self):\n",
    "        super().display_info()\n",
    "        print(f\"{self.length} {self.width}\")"
   ]
  },
  {
   "cell_type": "code",
   "execution_count": 30,
   "id": "4d7c9ec2",
   "metadata": {},
   "outputs": [],
   "source": [
    "class Circle(Shape):\n",
    "    def __init__(self,colour,border_width,radius):\n",
    "        super().__init__(colour,border_width)\n",
    "        self.radius = radius\n",
    "        \n",
    "    def display_info(self):\n",
    "        super().display_info()\n",
    "        print(f\"{self.radius}\")"
   ]
  },
  {
   "cell_type": "code",
   "execution_count": 31,
   "id": "0e5777cd",
   "metadata": {},
   "outputs": [
    {
     "name": "stdout",
     "output_type": "stream",
     "text": [
      "Red 2\n",
      "5 3\n"
     ]
    }
   ],
   "source": [
    "rectangle = Rectangle(colour=\"Red\", border_width=2, length=5, width=3)\n",
    "rectangle.display_info()"
   ]
  },
  {
   "cell_type": "code",
   "execution_count": 32,
   "id": "7779ac9e",
   "metadata": {},
   "outputs": [
    {
     "name": "stdout",
     "output_type": "stream",
     "text": [
      "Blue 1\n",
      "4\n"
     ]
    }
   ],
   "source": [
    "circle = Circle(colour=\"Blue\", border_width=1, radius=4)\n",
    "circle.display_info()"
   ]
  },
  {
   "cell_type": "markdown",
   "id": "beefc141",
   "metadata": {},
   "source": [
    "### Q.9. Create a base class called \"Device\" with attributes like \"brand\" and \"model.\" Derive two classes, \"Phone\" and \"Tablet,\" from \"Device.\" Add specific attributes like \"screen_size\" for the \"Phone\" class and \"battery_capacity\" for the \"Tablet\" class. "
   ]
  },
  {
   "cell_type": "code",
   "execution_count": 33,
   "id": "9c48509a",
   "metadata": {},
   "outputs": [],
   "source": [
    "class Device:\n",
    "    def __init__(self, brand, model):\n",
    "        self.brand = brand\n",
    "        self.model = model\n",
    "\n",
    "    def display_info(self):\n",
    "        print(f\"Device Info: {self.brand} {self.model}\")"
   ]
  },
  {
   "cell_type": "code",
   "execution_count": 34,
   "id": "b7e455f3",
   "metadata": {},
   "outputs": [],
   "source": [
    "class Phone(Device):\n",
    "    def __init__(self, brand, model, screen_size):\n",
    "        super().__init__(brand, model)\n",
    "        self.screen_size = screen_size\n",
    "\n",
    "    def display_info(self):\n",
    "        super().display_info()\n",
    "        print(f\"Screen Size: {self.screen_size}\")\n"
   ]
  },
  {
   "cell_type": "code",
   "execution_count": 35,
   "id": "5abce370",
   "metadata": {},
   "outputs": [],
   "source": [
    "class Tablet(Device):\n",
    "    def __init__(self, brand, model, battery_capacity):\n",
    "        super().__init__(brand, model)\n",
    "        self.battery_capacity = battery_capacity\n",
    "\n",
    "    def display_info(self):\n",
    "        super().display_info()\n",
    "        print(f\"Battery Capacity: {self.battery_capacity}\")"
   ]
  },
  {
   "cell_type": "code",
   "execution_count": 36,
   "id": "05827f31",
   "metadata": {},
   "outputs": [
    {
     "name": "stdout",
     "output_type": "stream",
     "text": [
      "Device Info: Samsung Galaxy S21\n",
      "Screen Size: 6.2 inches\n"
     ]
    }
   ],
   "source": [
    "phone1 = Phone(brand=\"Samsung\", model=\"Galaxy S21\", screen_size=\"6.2 inches\")\n",
    "phone1.display_info()"
   ]
  },
  {
   "cell_type": "code",
   "execution_count": 37,
   "id": "fe584b96",
   "metadata": {},
   "outputs": [
    {
     "name": "stdout",
     "output_type": "stream",
     "text": [
      "Device Info: Apple iPad Pro\n",
      "Battery Capacity: 10,000 mAh\n"
     ]
    }
   ],
   "source": [
    "tablet1 = Tablet(brand=\"Apple\", model=\"iPad Pro\", battery_capacity=\"10,000 mAh\")\n",
    "tablet1.display_info()"
   ]
  },
  {
   "cell_type": "markdown",
   "id": "1f8a26c8",
   "metadata": {},
   "source": [
    "### Q.10. Create a base class called \"BankAccount\" with attributes like \"account_number\" and \"balance.\" Derive two classes, \"SavingsAccount\" and \"CheckingAccount,\" from \"BankAccount.\" Add specific methods like \"calculate_interest\" for the \"SavingsAccount\" class and \"deduct_fees\" for the \"CheckingAccount\" class. "
   ]
  },
  {
   "cell_type": "code",
   "execution_count": 38,
   "id": "3e2c5a93",
   "metadata": {},
   "outputs": [],
   "source": [
    "class BankAccount:\n",
    "    def __init__(self,account_number,balance):\n",
    "        self.account_number=account_number\n",
    "        self.balance=balance"
   ]
  },
  {
   "cell_type": "code",
   "execution_count": 39,
   "id": "fb8dd408",
   "metadata": {},
   "outputs": [],
   "source": [
    "class SavingsAccount(BankAccount):\n",
    "    def __init__(self, account_number,balance):\n",
    "        super().__init__(account_number,balance)\n",
    "        \n",
    "    def calculate_interest(self,interest_rate):\n",
    "        interest = self.balance * interest_rate\n",
    "        self.balance += interest\n",
    "        print(f\"Interest calculated: ${interest:.2f}\")"
   ]
  },
  {
   "cell_type": "code",
   "execution_count": 40,
   "id": "63174795",
   "metadata": {},
   "outputs": [],
   "source": [
    "class CheckingAccount(BankAccount):\n",
    "    def __init__(self, account_number,balance):\n",
    "        super().__init__(account_number,balance)\n",
    "        \n",
    "    \n",
    "    def deduct_fees(self, fee_amount):\n",
    "        if self.balance >= fee_amount:\n",
    "            self.balance -= fee_amount\n",
    "            print(f\"Fees deducted: ${fee_amount:.2f}\")\n",
    "        else:\n",
    "            print(\"Insufficient funds to deduct fees.\")"
   ]
  },
  {
   "cell_type": "code",
   "execution_count": 41,
   "id": "c846a0ab",
   "metadata": {},
   "outputs": [],
   "source": [
    "savings_account = SavingsAccount(account_number=\"SA123\", balance=1000.0)"
   ]
  },
  {
   "cell_type": "code",
   "execution_count": 42,
   "id": "f99ffea4",
   "metadata": {},
   "outputs": [
    {
     "name": "stdout",
     "output_type": "stream",
     "text": [
      "Interest calculated: $50.00\n"
     ]
    }
   ],
   "source": [
    "savings_account.calculate_interest(interest_rate=0.05)\n"
   ]
  },
  {
   "cell_type": "code",
   "execution_count": 43,
   "id": "9abac8ae",
   "metadata": {},
   "outputs": [],
   "source": [
    "checking_account = CheckingAccount(account_number=\"CA456\", balance=500.0)"
   ]
  },
  {
   "cell_type": "code",
   "execution_count": 44,
   "id": "36e1f5b5",
   "metadata": {},
   "outputs": [
    {
     "name": "stdout",
     "output_type": "stream",
     "text": [
      "Fees deducted: $10.00\n"
     ]
    }
   ],
   "source": [
    "checking_account.deduct_fees(fee_amount=10.0)"
   ]
  },
  {
   "cell_type": "code",
   "execution_count": null,
   "id": "36a98d7a",
   "metadata": {},
   "outputs": [],
   "source": []
  }
 ],
 "metadata": {
  "kernelspec": {
   "display_name": "Python 3 (ipykernel)",
   "language": "python",
   "name": "python3"
  },
  "language_info": {
   "codemirror_mode": {
    "name": "ipython",
    "version": 3
   },
   "file_extension": ".py",
   "mimetype": "text/x-python",
   "name": "python",
   "nbconvert_exporter": "python",
   "pygments_lexer": "ipython3",
   "version": "3.10.9"
  }
 },
 "nbformat": 4,
 "nbformat_minor": 5
}
