{
 "cells": [
  {
   "cell_type": "markdown",
   "id": "cdb02e69",
   "metadata": {},
   "source": [
    "### Q.1. What is the role of try and exception block? "
   ]
  },
  {
   "cell_type": "code",
   "execution_count": 1,
   "id": "93402565",
   "metadata": {},
   "outputs": [],
   "source": [
    "# The try and except block in Python is used to catch and handle exceptions"
   ]
  },
  {
   "cell_type": "markdown",
   "id": "752fc5fd",
   "metadata": {},
   "source": [
    "### Q.2. What is the syntax for a basic try-except block? "
   ]
  },
  {
   "cell_type": "code",
   "execution_count": 2,
   "id": "b9977fb6",
   "metadata": {},
   "outputs": [],
   "source": [
    "# The syntax for a basic try-except block in Python is.\n",
    "\n",
    "# try: # Code that might raise an exception # ... except SomeException: # Code to handle the exception"
   ]
  },
  {
   "cell_type": "markdown",
   "id": "f7cb74fc",
   "metadata": {},
   "source": [
    "### Q.3. What happens if an exception occurs inside a try block and there is no matching except block? "
   ]
  },
  {
   "cell_type": "code",
   "execution_count": 3,
   "id": "dcb5daeb",
   "metadata": {},
   "outputs": [],
   "source": [
    "# If any exception occurs, the try clause will be skipped and except clause will run. If any exception occurs, but the \n",
    "# except clause within the code doesn't handle it, it is passed on to the outer try statements. If the exception is left \n",
    "# unhandled, then the execution stops"
   ]
  },
  {
   "cell_type": "markdown",
   "id": "8e518548",
   "metadata": {},
   "source": [
    "### Q.4. What is the difference between using a bare except block and specifying a specific exception type? "
   ]
  },
  {
   "cell_type": "code",
   "execution_count": 4,
   "id": "f4a08404",
   "metadata": {},
   "outputs": [],
   "source": [
    "# A bare except: clause will catch System Exit and KeyboardInterrupt exceptions,\n",
    "\n",
    "# In Python, you can specify a specific exception type in an except block to catch only that particular type of exception. \n",
    "# This allows you to handle different exceptions differently, providing more precise error handling in your code"
   ]
  },
  {
   "cell_type": "markdown",
   "id": "2b8ed595",
   "metadata": {},
   "source": [
    "### Q.5. Can you have nested try-except blocks in Python? If yes, then give an example. "
   ]
  },
  {
   "cell_type": "code",
   "execution_count": 5,
   "id": "42e29a5f",
   "metadata": {},
   "outputs": [],
   "source": [
    "# Yes, you can have nested try-except blocks in Python. This means that you can have a try block inside another try block. \n",
    "# The outer try block will catch any exceptions that are raised in the inner try block."
   ]
  },
  {
   "cell_type": "code",
   "execution_count": 6,
   "id": "634d5073",
   "metadata": {},
   "outputs": [
    {
     "name": "stdout",
     "output_type": "stream",
     "text": [
      "The result squared is: 25.0\n",
      "Error: Cannot divide by zero.\n"
     ]
    },
    {
     "ename": "TypeError",
     "evalue": "unsupported operand type(s) for /: 'int' and 'str'",
     "output_type": "error",
     "traceback": [
      "\u001b[1;31m---------------------------------------------------------------------------\u001b[0m",
      "\u001b[1;31mTypeError\u001b[0m                                 Traceback (most recent call last)",
      "Cell \u001b[1;32mIn[6], line 18\u001b[0m\n\u001b[0;32m     16\u001b[0m divide_numbers(\u001b[38;5;241m10\u001b[39m, \u001b[38;5;241m2\u001b[39m)  \n\u001b[0;32m     17\u001b[0m divide_numbers(\u001b[38;5;241m10\u001b[39m, \u001b[38;5;241m0\u001b[39m)  \n\u001b[1;32m---> 18\u001b[0m \u001b[43mdivide_numbers\u001b[49m\u001b[43m(\u001b[49m\u001b[38;5;241;43m10\u001b[39;49m\u001b[43m,\u001b[49m\u001b[43m \u001b[49m\u001b[38;5;124;43m'\u001b[39;49m\u001b[38;5;124;43m2\u001b[39;49m\u001b[38;5;124;43m'\u001b[39;49m\u001b[43m)\u001b[49m\n",
      "Cell \u001b[1;32mIn[6], line 3\u001b[0m, in \u001b[0;36mdivide_numbers\u001b[1;34m(a, b)\u001b[0m\n\u001b[0;32m      1\u001b[0m \u001b[38;5;28;01mdef\u001b[39;00m \u001b[38;5;21mdivide_numbers\u001b[39m(a, b):\n\u001b[0;32m      2\u001b[0m     \u001b[38;5;28;01mtry\u001b[39;00m:\n\u001b[1;32m----> 3\u001b[0m         result \u001b[38;5;241m=\u001b[39m \u001b[43ma\u001b[49m\u001b[43m \u001b[49m\u001b[38;5;241;43m/\u001b[39;49m\u001b[43m \u001b[49m\u001b[43mb\u001b[49m\n\u001b[0;32m      4\u001b[0m     \u001b[38;5;28;01mexcept\u001b[39;00m \u001b[38;5;167;01mZeroDivisionError\u001b[39;00m:\n\u001b[0;32m      5\u001b[0m         \u001b[38;5;28mprint\u001b[39m(\u001b[38;5;124m\"\u001b[39m\u001b[38;5;124mError: Cannot divide by zero.\u001b[39m\u001b[38;5;124m\"\u001b[39m)\n",
      "\u001b[1;31mTypeError\u001b[0m: unsupported operand type(s) for /: 'int' and 'str'"
     ]
    }
   ],
   "source": [
    "def divide_numbers(a, b):\n",
    "    try:\n",
    "        result = a / b\n",
    "    except ZeroDivisionError:\n",
    "        print(\"Error: Cannot divide by zero.\")\n",
    "    else:\n",
    "        try:\n",
    "            # Some other operation with the result of division\n",
    "            result_squared = result ** 2\n",
    "        except TypeError:\n",
    "            print(\"Error: Cannot perform the second operation. The result might not be a number.\")\n",
    "        else:\n",
    "            print(\"The result squared is:\", result_squared)\n",
    "\n",
    "# Test cases\n",
    "divide_numbers(10, 2)  \n",
    "divide_numbers(10, 0)  \n",
    "divide_numbers(10, '2')"
   ]
  },
  {
   "cell_type": "markdown",
   "id": "61b04257",
   "metadata": {},
   "source": [
    "### Q.6. Can we use multiple exception blocks, if yes then give an example. "
   ]
  },
  {
   "cell_type": "code",
   "execution_count": 7,
   "id": "ddd59e0b",
   "metadata": {},
   "outputs": [
    {
     "name": "stdout",
     "output_type": "stream",
     "text": [
      "The result is: 5.0\n",
      "Error: Cannot divide by zero.\n",
      "Error: Invalid input types for division.\n"
     ]
    }
   ],
   "source": [
    "def divide_numbers(a, b):\n",
    "    try:\n",
    "        result = a / b\n",
    "    except ZeroDivisionError:\n",
    "        print(\"Error: Cannot divide by zero.\")\n",
    "    except TypeError:\n",
    "        print(\"Error: Invalid input types for division.\")\n",
    "    else:\n",
    "        print(\"The result is:\", result)\n",
    "\n",
    "# Test cases\n",
    "divide_numbers(10, 2)  \n",
    "divide_numbers(10, 0)   \n",
    "divide_numbers(10, '2')"
   ]
  },
  {
   "cell_type": "markdown",
   "id": "e8a03b02",
   "metadata": {},
   "source": [
    "### Q.7. Write the reason due to which following errors are raised:\n",
    "### a. EOFError\n",
    "### b. FloatingPointError\n",
    "### c. IndexError\n",
    "### d. MemoryError\n",
    "### e. OverflowError\n",
    "### f. TabError\n",
    "### g. ValueError "
   ]
  },
  {
   "cell_type": "code",
   "execution_count": 8,
   "id": "0dd3178c",
   "metadata": {},
   "outputs": [],
   "source": [
    "# a. EOFError: This error is raised when an input operation reaches the end of the file and there is no more data to read.\n",
    "\n",
    "# b. FloatingPointError: This error is raised when a floating-point operation fails. It usually occurs when you perform an \n",
    "# invalid floating-point operation, such as dividing by zero or taking the square root of a negative number.\n",
    "\n",
    "# c. IndexError: This error is raised when you try to access an index of a sequence (like a list or a string) that is out \n",
    "# of range, i.e., the index is negative or greater than or equal to the length of the sequence.\n",
    "\n",
    "# d. MemoryError: This error is raised when your program runs out of available memory and cannot allocate more memory for \n",
    "# new objects or data structures.\n",
    "\n",
    "# e. OverflowError: This error is raised when the result of an arithmetic operation exceeds the maximum representable \n",
    "# value for a numeric data type. For example, if you try to calculate a large number that exceeds the maximum value for an \n",
    "# integer type, an OverflowError will be raised.\n",
    "\n",
    "# f. TabError: This error is raised when there is an issue with the indentation in your code, usually related to the usage \n",
    "# of tabs and spaces inconsistently.\n",
    "\n",
    "# g. ValueError: This error is raised when an operation or function receives an argument of the correct data type but an \n",
    "# inappropriate value. For example, trying to convert a string to an integer when the string contains non-numeric \n",
    "# characters will raise a ValueError."
   ]
  },
  {
   "cell_type": "markdown",
   "id": "99a38d47",
   "metadata": {},
   "source": [
    "### Q.8. Write code for the following given scenario and add try-exception block to it.\n",
    "### a. Program to divide two numbers\n",
    "### b. Program to convert a string to an integer\n",
    "### c. Program to access an element in a list\n",
    "### d. Program to handle a specific exception\n",
    "### e. Program to handle any exception "
   ]
  },
  {
   "cell_type": "code",
   "execution_count": 9,
   "id": "77a82324",
   "metadata": {},
   "outputs": [
    {
     "name": "stdout",
     "output_type": "stream",
     "text": [
      "The result of division is: 2.0\n",
      "The result of division is: 1.25\n"
     ]
    }
   ],
   "source": [
    "def divide_numbers(a, b):\n",
    "    try:\n",
    "        result = a / b\n",
    "    except ZeroDivisionError:\n",
    "        print(\"Error: Cannot divide by zero.\")\n",
    "    else:\n",
    "        print(\"The result of division is:\", result)\n",
    "\n",
    "# Test cases\n",
    "divide_numbers(10, 5)   # Output: The result of division is: 5.0\n",
    "divide_numbers(10, 8)   # Output: Error: Cannot divide by zero."
   ]
  },
  {
   "cell_type": "code",
   "execution_count": 10,
   "id": "0776710a",
   "metadata": {},
   "outputs": [
    {
     "name": "stdout",
     "output_type": "stream",
     "text": [
      "The integer value is: 55\n",
      "Error: Invalid input. Could not convert to an integer.\n"
     ]
    }
   ],
   "source": [
    "def convert_to_integer(string_num):\n",
    "    try:\n",
    "        num = int(string_num)\n",
    "    except ValueError:\n",
    "        print(\"Error: Invalid input. Could not convert to an integer.\")\n",
    "    else:\n",
    "        print(\"The integer value is:\" ,num)\n",
    "\n",
    "# Test cases\n",
    "convert_to_integer(\"55\")   # Output: The integer value is: 123\n",
    "convert_to_integer(\"shalini\") # Output: Error: Invalid input. Could not convert to an integer."
   ]
  },
  {
   "cell_type": "code",
   "execution_count": 11,
   "id": "bf0eeb90",
   "metadata": {},
   "outputs": [
    {
     "name": "stdout",
     "output_type": "stream",
     "text": [
      "The value at index 4 is: 5\n",
      "Error: Index out of range. The list does not have the specified index.\n"
     ]
    }
   ],
   "source": [
    "def access_element(my_list, index):\n",
    "    try:\n",
    "        value = my_list[index]\n",
    "    except IndexError:\n",
    "        print(\"Error: Index out of range. The list does not have the specified index.\")\n",
    "    else:\n",
    "        print(\"The value at index\", index, \"is:\", value)\n",
    "\n",
    "# Test cases\n",
    "my_list = [1, 2, 3, 4, 5]\n",
    "access_element(my_list, 4)   \n",
    "access_element(my_list, 10)  "
   ]
  },
  {
   "cell_type": "code",
   "execution_count": 12,
   "id": "4ced3018",
   "metadata": {},
   "outputs": [
    {
     "name": "stdout",
     "output_type": "stream",
     "text": [
      "The number is odd and allowed.\n",
      "Custom Error: Even numbers are not allowed.\n"
     ]
    }
   ],
   "source": [
    "def handle_specific_exception(num):\n",
    "    try:\n",
    "        if num % 2 == 0:\n",
    "            raise ValueError(\"Custom Error: Even numbers are not allowed.\")\n",
    "        else:\n",
    "            print(\"The number is odd and allowed.\")\n",
    "    except ValueError as e:\n",
    "        print(e)\n",
    "\n",
    "\n",
    "handle_specific_exception(5)  \n",
    "handle_specific_exception(2)"
   ]
  },
  {
   "cell_type": "code",
   "execution_count": 13,
   "id": "8cf64291",
   "metadata": {},
   "outputs": [
    {
     "name": "stdout",
     "output_type": "stream",
     "text": [
      "The result is: 5.0\n",
      "An error occurred: division by zero\n",
      "An error occurred: unsupported operand type(s) for /: 'int' and 'str'\n"
     ]
    }
   ],
   "source": [
    "def handle_any_exception(a, b):\n",
    "    try:\n",
    "        result = a / b\n",
    "        print(\"The result is:\", result)\n",
    "    except Exception as e:\n",
    "        print(\"An error occurred:\", e)\n",
    "\n",
    "\n",
    "handle_any_exception(10, 2)  # Output: The result is: 5.0\n",
    "handle_any_exception(10, 0)  # Output: An error occurred: division by zero\n",
    "handle_any_exception(10, '2')# Output: An error occurred: unsupported operand type(s) for /: 'int' and 'str'"
   ]
  },
  {
   "cell_type": "code",
   "execution_count": null,
   "id": "495ee8d5",
   "metadata": {},
   "outputs": [],
   "source": []
  },
  {
   "cell_type": "code",
   "execution_count": null,
   "id": "43c2e038",
   "metadata": {},
   "outputs": [],
   "source": []
  }
 ],
 "metadata": {
  "kernelspec": {
   "display_name": "Python 3 (ipykernel)",
   "language": "python",
   "name": "python3"
  },
  "language_info": {
   "codemirror_mode": {
    "name": "ipython",
    "version": 3
   },
   "file_extension": ".py",
   "mimetype": "text/x-python",
   "name": "python",
   "nbconvert_exporter": "python",
   "pygments_lexer": "ipython3",
   "version": "3.10.9"
  }
 },
 "nbformat": 4,
 "nbformat_minor": 5
}
