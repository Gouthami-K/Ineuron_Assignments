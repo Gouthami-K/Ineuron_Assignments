{
 "cells": [
  {
   "cell_type": "markdown",
   "id": "f75f9db3",
   "metadata": {},
   "source": [
    "### Q.1. What is the role of the 'else' block in a try-except statement? Provide an example scenario where it would be useful."
   ]
  },
  {
   "cell_type": "code",
   "execution_count": null,
   "id": "5662ad57",
   "metadata": {},
   "outputs": [],
   "source": [
    "# The 'else' block in a try-except statement is optional and is executed only if no exceptions are raised in the try block. \n",
    "# Its role is to specify a block of code to be executed when the try block succeeds, providing an alternative flow of \n",
    "# execution. It is useful when you want to perform additional actions or calculations that should only occur if the try \n",
    "# block completes successfully without any exceptions. For example :"
   ]
  },
  {
   "cell_type": "code",
   "execution_count": 1,
   "id": "36a5c376",
   "metadata": {},
   "outputs": [
    {
     "name": "stdout",
     "output_type": "stream",
     "text": [
      "Enter the first number: 7\n",
      "Enter the second number: 2\n",
      "The division result is: 3.5\n"
     ]
    }
   ],
   "source": [
    "try:\n",
    "    num1 = int(input(\"Enter the first number: \"))\n",
    "    num2 = int(input(\"Enter the second number: \"))\n",
    "    result = num1 / num2\n",
    "except ZeroDivisionError:\n",
    "    print(\"Error: Division by zero is not allowed.\")\n",
    "else:\n",
    "    print(\"The division result is:\", result)"
   ]
  },
  {
   "cell_type": "markdown",
   "id": "c1252150",
   "metadata": {},
   "source": [
    "### Q.2. Can a try-except block be nested inside another try-except block? Explain with an example. "
   ]
  },
  {
   "cell_type": "code",
   "execution_count": 2,
   "id": "0d577134",
   "metadata": {},
   "outputs": [],
   "source": [
    "# Yes, nested try-except blocks can be used in Python. This means that you can have a try-except block inside another try \n",
    "# block.\n",
    "\n",
    "# For example(In this example, if an exception of ExceptionType2 occurs in the inner try block, it will be caught by the \n",
    "# inner except block. If an exception of ExceptionType1 occurs in the outer try block or the inner except block, it will \n",
    "# be caught by the outer except block)"
   ]
  },
  {
   "cell_type": "code",
   "execution_count": 3,
   "id": "1469ebe5",
   "metadata": {},
   "outputs": [
    {
     "name": "stdout",
     "output_type": "stream",
     "text": [
      "outer try block\n",
      "Inner try block\n"
     ]
    }
   ],
   "source": [
    "try:\n",
    "   print(\"outer try block\")\n",
    "   try:\n",
    "       print(\"Inner try block\")\n",
    "   except ZeroDivisionError:\n",
    "       print(\"Inner except block\")\n",
    "except:\n",
    "   print(\"outer except block\")"
   ]
  },
  {
   "cell_type": "markdown",
   "id": "04390eb3",
   "metadata": {},
   "source": [
    "### Q.3. How can you create a custom exception class in Python? Provide an example that demonstrates its usage.  "
   ]
  },
  {
   "cell_type": "code",
   "execution_count": null,
   "id": "4798adac",
   "metadata": {},
   "outputs": [],
   "source": [
    "# In Python, we can create a custom exception class by defining a new class that inherits from the base 'Exception' class \n",
    "# or any of its subclasses. Below is an example of creating and using a custom exception class:\n",
    "\n",
    "class CustomException(Exception): pass\n",
    "\n",
    "try: raise CustomException(\"This is a custom exception.\") except CustomException as e: print(\"Custom exception caught:\", e) In this example, we define a new class called 'CustomException' that inherits from the base 'Exception' class. We then raise an instance of this custom exception with a custom error message. The exception is caught in the 'except'block, and we print the exception message."
   ]
  },
  {
   "cell_type": "code",
   "execution_count": 4,
   "id": "5d9e656a",
   "metadata": {},
   "outputs": [
    {
     "name": "stdout",
     "output_type": "stream",
     "text": [
      "My created exception\n",
      "Custom exception caught: This is a custom exception.\n"
     ]
    }
   ],
   "source": [
    "class CustomException(Exception):\n",
    "    print(\"My created exception\")\n",
    "\n",
    "try:\n",
    "    raise CustomException(\"This is a custom exception.\")\n",
    "except CustomException as e:\n",
    "    print(\"Custom exception caught:\", e)"
   ]
  },
  {
   "cell_type": "markdown",
   "id": "16a8c49a",
   "metadata": {},
   "source": [
    "### Q.4. What are some common exceptions that are built-in to Python?  "
   ]
  },
  {
   "cell_type": "code",
   "execution_count": 5,
   "id": "3cd031ef",
   "metadata": {},
   "outputs": [],
   "source": [
    "# Python provides several built-in exceptions that cover common error scenarios. Some common built-in exceptions include:\n",
    "\n",
    "\n",
    "# 'ZeroDivisionError': Raised when division or modulo operation is performed with zero as the divisor. \n",
    "# 'ValueError': Raised when a function receives an argument of the correct type but with an invalid value. \n",
    "# 'TypeError': Raised when an operation or function is applied to an object of an inappropriate type. \n",
    "# 'IndexError': Raised when an index is out of range for a sequence (e.g., list, tuple, string). \n",
    "# 'FileNotFoundError': Raised when a file or directory is requested but cannot be found. \n",
    "# 'KeyError': Raised when a dictionary key is not found. \n",
    "# 'NameError': Raised when a local or global name is not found. \n",
    "#'IOError': Raised when an I/O operation (e.g., reading or writing to a file) fails."
   ]
  },
  {
   "cell_type": "markdown",
   "id": "937a52a0",
   "metadata": {},
   "source": [
    "### Q.5. What is logging in Python, and why is it important in software development?  "
   ]
  },
  {
   "cell_type": "code",
   "execution_count": 6,
   "id": "501ac73c",
   "metadata": {},
   "outputs": [],
   "source": [
    "# Logging in Python is a mechanism that allows developers to record events, messages, and errors that occur during the \n",
    "# execution of a program. It provides a way to collect and store valuable information about the program's behavior, \n",
    "# making it easier to debug issues, monitor application performance, and analyze runtime behavior. Logging is important \n",
    "# in software development because it offers a more structured and flexible approach compared to using print statements for \n",
    "# debugging. It allows you to control the level of detail and destination of log messages, making it suitable for different \n",
    "# environments and scenarios."
   ]
  },
  {
   "cell_type": "markdown",
   "id": "dfc9b867",
   "metadata": {},
   "source": [
    "### Q.6. Explain the purpose of log levels in Python logging and provide examples of when each log level would be appropriate.  "
   ]
  },
  {
   "cell_type": "code",
   "execution_count": null,
   "id": "0e1e3e00",
   "metadata": {},
   "outputs": [],
   "source": [
    "# Log levels in Python logging define the severity or importance of a log message. There are several log levels available, \n",
    "# including:\n",
    "\n",
    "#'DEBUG': Detailed information, typically useful for debugging purposes. \n",
    "# 'INFO': General information about the program's execution. \n",
    "# 'WARNING': Indicates a potential issue or warning that does not prevent the program from running. \n",
    "# 'ERROR': Indicates a more severe error or problem that affects the program's functionality. \n",
    "# 'CRITICAL': Indicates a critical error or failure that may cause the program to terminate. \n",
    "# The purpose of log levels is to provide a way to filter and prioritize log messages based on their severity. \n",
    "# Developers can set the desired log level, and only log messages with an equal or higher level will be recorded. \n",
    "# For example:\n",
    "\n",
    "import logging\n",
    "\n",
    "Set the log level to INFO logging.basicConfig(level=logging.INFO)\n",
    "\n",
    "Log messages logging.debug(\"This is a debug message\") logging.info(\"This is an info message\") logging.warning(\"This is a warning message\") logging.error(\"This is an error message\") logging.critical(\"This is a critical message\")\n",
    "\n",
    "In this example, since the log level is set to INFO, only log messages with an equal or higher level (INFO, WARNING, ERROR, CRITICAL) will be recorded. DEBUG messages will be ignored."
   ]
  },
  {
   "cell_type": "markdown",
   "id": "b5f4a8c1",
   "metadata": {},
   "source": [
    "### Q.7. What are log formatters in Python logging, and how can you customise the log message format using formatters?  "
   ]
  },
  {
   "cell_type": "code",
   "execution_count": null,
   "id": "6702efa0",
   "metadata": {},
   "outputs": [],
   "source": [
    "# Log formatters in Python logging define the format of log messages when they are recorded. They allow customization of \n",
    "# the log message structure, including the timestamp, log level, module name, and the actual log message content. \n",
    "# By default, the logging module uses a basic formatter that includes the log level and the log message. However, we can \n",
    "# customize the log message format using formatters.\n",
    "\n",
    "# Here's an example:\n",
    "\n",
    "import logging\n",
    "\n",
    "Create a formatter formatter = logging.Formatter(\"%(asctime)s - %(levelname)s - %(message)s\")\n",
    "\n",
    "Create a handler and set the formatter handler = logging.StreamHandler() handler.setFormatter(formatter)\n",
    "\n",
    "Create a logger and add the handler logger = logging.getLogger() logger.addHandler(handler)\n",
    "\n",
    "Log a message logger.info(\"This is a custom log message\") \n",
    "\n",
    "# In this example, we create a formatter using the logging.Formatter class and specify the desired log message format. \n",
    "# Then, we create a handler (in this case, a StreamHandler that sends log messages to the console) and set the formatter \n",
    "# on the handler. Finally, we create a logger, add the handler to it, and log a message using the customized log message \n",
    "# format."
   ]
  },
  {
   "cell_type": "code",
   "execution_count": 7,
   "id": "3951df80",
   "metadata": {},
   "outputs": [],
   "source": [
    "import logging\n",
    "\n",
    "# Create a formatter\n",
    "formatter = logging.Formatter(\"%(asctime)s - %(levelname)s - %(message)s\")\n",
    "\n",
    "# Create a handler and set the formatter\n",
    "handler = logging.StreamHandler()\n",
    "handler.setFormatter(formatter)\n",
    "\n",
    "# Create a logger and add the handler\n",
    "logger = logging.getLogger()\n",
    "logger.addHandler(handler)\n",
    "\n",
    "# Log a message\n",
    "logger.info(\"This is a custom log message\")"
   ]
  },
  {
   "cell_type": "markdown",
   "id": "aa573eba",
   "metadata": {},
   "source": [
    "### Q.8. How can you set up logging to capture log messages from multiple modules or classes in a Python application?  "
   ]
  },
  {
   "cell_type": "code",
   "execution_count": null,
   "id": "fe988d37",
   "metadata": {},
   "outputs": [],
   "source": [
    "# To capture log messages from multiple modules or classes in a Python application, we can configure a logger with a file \n",
    "# handler that writes log messages to a specific log file.\n",
    "\n",
    "# Here's an example:\n",
    "\n",
    "import logging\n",
    "\n",
    "Configure logger logger = logging.getLogger() logger.setLevel(logging.INFO)\n",
    "\n",
    "Create a file handler file_handler = logging.FileHandler(\"app.log\")\n",
    "\n",
    "Create a formatter and set it on the file handler formatter = logging.Formatter(\"%(asctime)s - %(levelname)s - %(message)s\") file_handler.setFormatter(formatter)\n",
    "\n",
    "Add the file handler to the logger logger.addHandler(file_handler)\n",
    "\n",
    "Log messages logger.info(\"Log message from module A\") logger.info(\"Log message from module B\")\n",
    "\n",
    "# In this example, we configure the logger to log messages with an INFO level or above. We create a FileHandler and specify \n",
    "# the log file name as \"app.log\". Then, we create a formatter and set it on the file handler. Finally, we add the file \n",
    "# handler to the logger. Now, any log messages with an INFO level or above will be recorded in the \"app.log\" file."
   ]
  },
  {
   "cell_type": "code",
   "execution_count": 8,
   "id": "772a40b1",
   "metadata": {},
   "outputs": [
    {
     "name": "stderr",
     "output_type": "stream",
     "text": [
      "2024-03-21 18:37:58,132 - INFO - Log message from module A\n",
      "2024-03-21 18:37:58,135 - INFO - Log message from module B\n"
     ]
    }
   ],
   "source": [
    "import logging\n",
    "\n",
    "# Configure logger\n",
    "logger = logging.getLogger()\n",
    "logger.setLevel(logging.INFO)\n",
    "\n",
    "# Create a file handler\n",
    "file_handler = logging.FileHandler(\"app.log\")\n",
    "\n",
    "# Create a formatter and set it on the file handler\n",
    "formatter = logging.Formatter(\"%(asctime)s - %(levelname)s - %(message)s\")\n",
    "file_handler.setFormatter(formatter)\n",
    "\n",
    "# Add the file handler to the logger\n",
    "logger.addHandler(file_handler)\n",
    "\n",
    "# Log messages\n",
    "logger.info(\"Log message from module A\")\n",
    "logger.info(\"Log message from module B\")"
   ]
  },
  {
   "cell_type": "markdown",
   "id": "d64ec0a9",
   "metadata": {},
   "source": [
    "### Q.9. What is the difference between the logging and print statements in Python? When should you use logging over print statements in a real-world application?  "
   ]
  },
  {
   "cell_type": "code",
   "execution_count": 9,
   "id": "d4a66e7e",
   "metadata": {},
   "outputs": [],
   "source": [
    "# The main difference between logging and print statements in Python is their purpose and flexibility. Logging is designed \n",
    "# specifically for recording events, messages, and errors during the execution of a program, while print statements are \n",
    "# primarily used for outputting data or debugging information during development. Listed are some situations where logging \n",
    "# is preferred over print statements in a real-world application:\n",
    "\n",
    "# In production environments, print statements may clutter the output or interfere with the application's normal \n",
    "# functioning. Logging provides a structured and controlled way to capture relevant information without affecting the \n",
    "# program's output. With logging, we can control the level of detail recorded based on the severity of the message. \n",
    "# This allows us to fine-tune the information logged, making it easier to identify and analyze issues. Logging provides a \n",
    "# centralized mechanism for collecting and storing log messages, which can be essential for troubleshooting and \n",
    "# post-mortem analysis. Log messages can be directed to different destinations (e.g., console, file, remote server) and \n",
    "# can be easily configured or disabled without modifying the code. The logging module offers powerful features such as log \n",
    "# levels, handlers, filters, and formatters, which allow you to customize and control the behavior of log messages based on\n",
    "# specific requirements."
   ]
  },
  {
   "cell_type": "markdown",
   "id": "84a15185",
   "metadata": {},
   "source": [
    "### Q.10. Write a Python program that logs a message to a file named \"app.log\" with the following requirements:\n",
    "### ● The log message should be \"Hello, World!\"\n",
    "### ● The log level should be set to \"INFO.\"\n",
    "### ● The log file should append new log entries without overwriting previous ones.  "
   ]
  },
  {
   "cell_type": "code",
   "execution_count": 10,
   "id": "07fa34b2",
   "metadata": {},
   "outputs": [
    {
     "name": "stderr",
     "output_type": "stream",
     "text": [
      "2024-03-21 18:38:01,849 - INFO - Hello, World!\n"
     ]
    }
   ],
   "source": [
    "import logging\n",
    "\n",
    "# Configure logger\n",
    "logger = logging.getLogger()\n",
    "logger.setLevel(logging.INFO)\n",
    "\n",
    "# Create a file handler\n",
    "file_handler = logging.FileHandler(\"app.log\")\n",
    "file_handler.setLevel(logging.INFO)\n",
    "\n",
    "# Create a formatter and set it on the file handler\n",
    "formatter = logging.Formatter(\"%(asctime)s - %(levelname)s - %(message)s\")\n",
    "file_handler.setFormatter(formatter)\n",
    "\n",
    "# Add the file handler to the logger\n",
    "logger.addHandler(file_handler)\n",
    "\n",
    "# Log the message\n",
    "logger.info(\"Hello, World!\")"
   ]
  },
  {
   "cell_type": "code",
   "execution_count": 11,
   "id": "b194d681",
   "metadata": {},
   "outputs": [],
   "source": [
    "# In this code, we configure the logger to log messages with an INFO level or above. Then, we create a file handler and \n",
    "# specify the log file name as \"app.log\". We set the log level of the file handler to INFO to ensure it captures the log \n",
    "# message. Next, we create a formatter and set it on the file handler. Finally, we add the file handler to the logger. \n",
    "# When the program runs, it logs the message \"Hello, World!\" to the \"app.log\" file."
   ]
  },
  {
   "cell_type": "markdown",
   "id": "a6e1d4a2",
   "metadata": {},
   "source": [
    "### Q.11. Create a Python program that logs an error message to the console and a file named \"errors.log\" if an exception occurs during the program's execution. The error message should include the exception type and a timestamp.  "
   ]
  },
  {
   "cell_type": "code",
   "execution_count": 12,
   "id": "7952189d",
   "metadata": {},
   "outputs": [
    {
     "name": "stderr",
     "output_type": "stream",
     "text": [
      "2024-03-21 18:38:04,378 - ERROR - Exception occurred at 2024-03-21 18:38:04: ValueError\n",
      "Traceback (most recent call last):\n",
      "  File \"C:\\Users\\Dell\\AppData\\Local\\Temp\\ipykernel_9436\\2997696257.py\", line 29, in <module>\n",
      "    raise ValueError(\"This is a sample error.\")\n",
      "ValueError: This is a sample error.\n",
      "\n",
      "2024-03-21 18:38:04,378 - ERROR - Exception occurred at 2024-03-21 18:38:04: ValueError\n",
      "Traceback (most recent call last):\n",
      "  File \"C:\\Users\\Dell\\AppData\\Local\\Temp\\ipykernel_9436\\2997696257.py\", line 29, in <module>\n",
      "    raise ValueError(\"This is a sample error.\")\n",
      "ValueError: This is a sample error.\n",
      "\n"
     ]
    }
   ],
   "source": [
    "import logging\n",
    "import traceback\n",
    "from datetime import datetime\n",
    "\n",
    "# Configure logger\n",
    "logger = logging.getLogger()\n",
    "logger.setLevel(logging.ERROR)\n",
    "\n",
    "# Create a console handler\n",
    "console_handler = logging.StreamHandler()\n",
    "console_handler.setLevel(logging.ERROR)\n",
    "\n",
    "# Create a file handler\n",
    "file_handler = logging.FileHandler(\"errors.log\")\n",
    "file_handler.setLevel(logging.ERROR)\n",
    "\n",
    "# Create a formatter and set it on the handlers\n",
    "formatter = logging.Formatter(\"%(asctime)s - %(levelname)s - %(message)s\")\n",
    "console_handler.setFormatter(formatter)\n",
    "file_handler.setFormatter(formatter)\n",
    "\n",
    "# Add the handlers to the logger\n",
    "logger.addHandler(console_handler)\n",
    "logger.addHandler(file_handler)\n",
    "\n",
    "try:\n",
    "    # Code that may raise an exception\n",
    "    # ...\n",
    "    raise ValueError(\"This is a sample error.\")\n",
    "except Exception as e:\n",
    "    # Log the exception with traceback\n",
    "    exception_type = type(e).__name__\n",
    "    timestamp = datetime.now().strftime(\"%Y-%m-%d %H:%M:%S\")\n",
    "    logger.error(f\"Exception occurred at {timestamp}: {exception_type}\\n{traceback.format_exc()}\")"
   ]
  },
  {
   "cell_type": "code",
   "execution_count": 13,
   "id": "feca0b9c",
   "metadata": {},
   "outputs": [],
   "source": [
    "# In this code, we configure the logger to capture ERROR level messages. We create a console handler and a file handler, \n",
    "# both set to the ERROR level. Then, we create a formatter and set it on both handlers. Finally, we add the handlers to \n",
    "# the logger.\n",
    "\n",
    "# Inside the try-except block, we raise a ValueError as an example of an exception occurring. If any exception occurs, we \n",
    "# log the exception message, type, and traceback using the logger's error method. The log message includes the current \n",
    "# timestamp, exception type, and the formatted traceback.\n",
    "\n",
    "# This program will log the error message to both the console and the \"errors.log\" file, providing a record of the \n",
    "# exception and traceback information for further analysis."
   ]
  },
  {
   "cell_type": "code",
   "execution_count": null,
   "id": "6ffd8883",
   "metadata": {},
   "outputs": [],
   "source": []
  }
 ],
 "metadata": {
  "kernelspec": {
   "display_name": "Python 3 (ipykernel)",
   "language": "python",
   "name": "python3"
  },
  "language_info": {
   "codemirror_mode": {
    "name": "ipython",
    "version": 3
   },
   "file_extension": ".py",
   "mimetype": "text/x-python",
   "name": "python",
   "nbconvert_exporter": "python",
   "pygments_lexer": "ipython3",
   "version": "3.10.9"
  }
 },
 "nbformat": 4,
 "nbformat_minor": 5
}
