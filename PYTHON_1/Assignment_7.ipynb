{
 "cells": [
  {
   "cell_type": "markdown",
   "id": "a7de683f",
   "metadata": {},
   "source": [
    "### Q.1. Create two int type variables, apply addition, subtraction, division and multiplications and store the results in variables. Then print the data in the following format by calling the variables: "
   ]
  },
  {
   "cell_type": "raw",
   "id": "5ba8e80c",
   "metadata": {},
   "source": [
    "First variable is __ & second variable is __.\n",
    "Addition: __ + __ = __\n",
    "Subtraction: __ - __ = __\n",
    "Multiplication: __ * __ = __\n",
    "Division: __ / __ = __"
   ]
  },
  {
   "cell_type": "code",
   "execution_count": 9,
   "id": "04c08b6a",
   "metadata": {},
   "outputs": [
    {
     "name": "stdout",
     "output_type": "stream",
     "text": [
      "First variable is 20 & second variable is 10\n",
      "Addition:A+B= 30\n",
      "Subtraction:A-B= 10\n",
      "Multiplication:A*B= 200\n",
      "Division:A/B= 2.0\n"
     ]
    }
   ],
   "source": [
    "A=20\n",
    "B=10\n",
    "print(\"First variable is\",A ,\"& second variable is\",B)\n",
    "print(\"Addition:A+B=\",A+B)\n",
    "print(\"Subtraction:A-B=\",A-B)\n",
    "print(\"Multiplication:A*B=\",A*B)\n",
    "print(\"Division:A/B=\",A/B)"
   ]
  },
  {
   "cell_type": "markdown",
   "id": "447061f2",
   "metadata": {},
   "source": [
    "### Q.2. What is the difference between the following operators:"
   ]
  },
  {
   "cell_type": "raw",
   "id": "e46e67e8",
   "metadata": {},
   "source": [
    "(i) ‘/’ & ‘//’\n",
    "(ii) ‘**’ & ‘^’"
   ]
  },
  {
   "cell_type": "code",
   "execution_count": null,
   "id": "a1e2e03c",
   "metadata": {},
   "outputs": [],
   "source": [
    "# The '/' operator performs regular division and returns the quotient as a floating-point number. It performs division and \n",
    "# includes decimal places in the result if necessary."
   ]
  },
  {
   "cell_type": "code",
   "execution_count": null,
   "id": "2c73364a",
   "metadata": {},
   "outputs": [],
   "source": [
    "# The '//' operator performs floor division and returns the quotient as an integer. It performs division and rounds down \n",
    "# the result to the nearest whole number."
   ]
  },
  {
   "cell_type": "code",
   "execution_count": 18,
   "id": "6a96253f",
   "metadata": {},
   "outputs": [
    {
     "name": "stdout",
     "output_type": "stream",
     "text": [
      "2.125\n",
      "2\n"
     ]
    }
   ],
   "source": [
    "X=17\n",
    "Y=8\n",
    "print(X/Y)\n",
    "print(X//Y)"
   ]
  },
  {
   "cell_type": "code",
   "execution_count": null,
   "id": "ebc9c648",
   "metadata": {},
   "outputs": [],
   "source": [
    "# The '**' operator is used for exponentiation. It raises a number to the power of another number."
   ]
  },
  {
   "cell_type": "code",
   "execution_count": 12,
   "id": "1ebf1c8b",
   "metadata": {},
   "outputs": [],
   "source": [
    "# The '^'' operator, on the other hand, is not an exponentiation operator in Python. Instead, it is the bitwise \n",
    "# XOR (exclusive OR) operator. It performs a bitwise XOR operation on the corresponding bits of two numbers."
   ]
  },
  {
   "cell_type": "code",
   "execution_count": 17,
   "id": "de4780ab",
   "metadata": {},
   "outputs": [
    {
     "name": "stdout",
     "output_type": "stream",
     "text": [
      "100000\n",
      "15\n"
     ]
    }
   ],
   "source": [
    "A=10\n",
    "B=5\n",
    "print(A**B)\n",
    "print(A^B)"
   ]
  },
  {
   "cell_type": "markdown",
   "id": "1b181bc5",
   "metadata": {},
   "source": [
    "### Q.3. List the logical operators."
   ]
  },
  {
   "cell_type": "code",
   "execution_count": null,
   "id": "b7da2d7b",
   "metadata": {},
   "outputs": [],
   "source": [
    "# The three different types of Boolean operators are:\n",
    "# 1.AND operator\n",
    "# 2.OR operator\n",
    "# 3.NOT operator"
   ]
  },
  {
   "cell_type": "markdown",
   "id": "c31b90d4",
   "metadata": {},
   "source": [
    "### Q.4. Explain right shift operator and left shift operator with examples."
   ]
  },
  {
   "cell_type": "code",
   "execution_count": null,
   "id": "d19b68a7",
   "metadata": {},
   "outputs": [],
   "source": [
    "# The right shift (>>) and left shift (<<) operators are bitwise operators. These operators shift the bits of a binary \n",
    "# number to the right or left by a specified number of positions."
   ]
  },
  {
   "cell_type": "code",
   "execution_count": 10,
   "id": "0459aaab",
   "metadata": {},
   "outputs": [
    {
     "name": "stdout",
     "output_type": "stream",
     "text": [
      "1\n"
     ]
    }
   ],
   "source": [
    "#Right shift\n",
    "a=10 #1010\n",
    "result=a>>3 \n",
    "print(result)\n",
    "\n",
    "#1010\n",
    "#0010"
   ]
  },
  {
   "cell_type": "code",
   "execution_count": 11,
   "id": "ca95e344",
   "metadata": {},
   "outputs": [
    {
     "name": "stdout",
     "output_type": "stream",
     "text": [
      "80\n"
     ]
    }
   ],
   "source": [
    "#left shift\n",
    "a=10 #1010\n",
    "result=a<<3 \n",
    "print(result)\n",
    "\n",
    "#1010\n",
    "#101000"
   ]
  },
  {
   "cell_type": "markdown",
   "id": "12b82818",
   "metadata": {},
   "source": [
    "### Q.5. Create a list containing int type data of length 15. Then write a code to check if 10 is present in the list or not."
   ]
  },
  {
   "cell_type": "code",
   "execution_count": 20,
   "id": "831e1110",
   "metadata": {},
   "outputs": [
    {
     "data": {
      "text/plain": [
       "15"
      ]
     },
     "execution_count": 20,
     "metadata": {},
     "output_type": "execute_result"
    }
   ],
   "source": [
    "List=[1,2,3,4,5,6,7,8,9,10,11,12,13,14,15]\n",
    "len(List)"
   ]
  },
  {
   "cell_type": "code",
   "execution_count": 29,
   "id": "acb8cecc",
   "metadata": {},
   "outputs": [
    {
     "name": "stdout",
     "output_type": "stream",
     "text": [
      "10 is present in the list\n"
     ]
    }
   ],
   "source": [
    "if 10 in List:\n",
    "    print(\"10 is present in the list\")\n",
    "else:\n",
    "    print('10 is not present in the list')"
   ]
  },
  {
   "cell_type": "code",
   "execution_count": null,
   "id": "381a0d8e",
   "metadata": {},
   "outputs": [],
   "source": []
  }
 ],
 "metadata": {
  "kernelspec": {
   "display_name": "Python 3 (ipykernel)",
   "language": "python",
   "name": "python3"
  },
  "language_info": {
   "codemirror_mode": {
    "name": "ipython",
    "version": 3
   },
   "file_extension": ".py",
   "mimetype": "text/x-python",
   "name": "python",
   "nbconvert_exporter": "python",
   "pygments_lexer": "ipython3",
   "version": "3.10.9"
  }
 },
 "nbformat": 4,
 "nbformat_minor": 5
}
